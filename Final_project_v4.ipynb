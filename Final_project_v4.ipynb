{
 "cells": [
  {
   "cell_type": "code",
   "execution_count": null,
   "metadata": {},
   "outputs": [],
   "source": [
    "# BeautifulSoup Documentation - https://beautiful-soup-4.readthedocs.io/en/latest/\n",
    "# BeautifulSoup @ pypi.org - https://pypi.org/project/beautifulsoup4/"
   ]
  },
  {
   "cell_type": "code",
   "execution_count": null,
   "metadata": {},
   "outputs": [],
   "source": [
    "# !pip install datefinder\n",
    "# !pip install yfinance"
   ]
  },
  {
   "cell_type": "code",
   "execution_count": 1,
   "metadata": {},
   "outputs": [
    {
     "ename": "ModuleNotFoundError",
     "evalue": "No module named 'datefinder'",
     "output_type": "error",
     "traceback": [
      "\u001b[1;31m---------------------------------------------------------------------------\u001b[0m",
      "\u001b[1;31mModuleNotFoundError\u001b[0m                       Traceback (most recent call last)",
      "\u001b[1;32m<ipython-input-1-2345c80abfd2>\u001b[0m in \u001b[0;36m<module>\u001b[1;34m\u001b[0m\n\u001b[0;32m      4\u001b[0m \u001b[1;32mfrom\u001b[0m \u001b[0mtqdm\u001b[0m \u001b[1;32mimport\u001b[0m \u001b[0mtqdm\u001b[0m\u001b[1;33m\u001b[0m\u001b[1;33m\u001b[0m\u001b[0m\n\u001b[0;32m      5\u001b[0m \u001b[1;32mimport\u001b[0m \u001b[0mrequests\u001b[0m\u001b[1;33m\u001b[0m\u001b[1;33m\u001b[0m\u001b[0m\n\u001b[1;32m----> 6\u001b[1;33m \u001b[1;32mimport\u001b[0m \u001b[0mdatefinder\u001b[0m\u001b[1;33m\u001b[0m\u001b[1;33m\u001b[0m\u001b[0m\n\u001b[0m\u001b[0;32m      7\u001b[0m \u001b[1;32mfrom\u001b[0m \u001b[0mbs4\u001b[0m \u001b[1;32mimport\u001b[0m \u001b[0mBeautifulSoup\u001b[0m\u001b[1;33m\u001b[0m\u001b[1;33m\u001b[0m\u001b[0m\n\u001b[0;32m      8\u001b[0m \u001b[1;32mimport\u001b[0m \u001b[0myfinance\u001b[0m \u001b[1;32mas\u001b[0m \u001b[0myf\u001b[0m\u001b[1;33m\u001b[0m\u001b[1;33m\u001b[0m\u001b[0m\n",
      "\u001b[1;31mModuleNotFoundError\u001b[0m: No module named 'datefinder'"
     ]
    }
   ],
   "source": [
    "import re\n",
    "from datetime import datetime, timedelta\n",
    "import pandas as pd\n",
    "from tqdm import tqdm\n",
    "import requests\n",
    "import datefinder\n",
    "from bs4 import BeautifulSoup\n",
    "import yfinance as yf\n",
    "import matplotlib.pyplot as plt\n",
    "from matplotlib.pyplot import figure\n",
    "import plotly.graph_objects as go\n",
    "import ipywidgets as widgets\n",
    "import warnings\n",
    "warnings.filterwarnings(\"ignore\")"
   ]
  },
  {
   "cell_type": "code",
   "execution_count": 2,
   "metadata": {},
   "outputs": [],
   "source": [
    "# Initialize constants.\n",
    "\n",
    "ARTICLES_TO_EXTRACT_PER_DAY = 4"
   ]
  },
  {
   "cell_type": "code",
   "execution_count": 46,
   "metadata": {},
   "outputs": [
    {
     "name": "stderr",
     "output_type": "stream",
     "text": [
      "100%|██████████| 14/14 [01:27<00:00,  6.22s/it]\n"
     ]
    }
   ],
   "source": [
    "# Get start and end date to fetch articles.\n",
    "current_time = datetime.now()\n",
    "time_two_weeks_back = current_time - timedelta(days=13)\n",
    "print(f\"\\nParsing data from \" + time_two_weeks_back.strftime(\"%m/%d/%Y %H:00\") + \" to \" + current_time.strftime(\"%m/%d/%Y %H:00\") + \"\\n\")\n",
    "\n",
    "# Generate a list of links that fetches news release of past two weeks.\n",
    "filtered_link_list = []\n",
    "for single_date in pd.date_range(time_two_weeks_back, current_time):\n",
    "    filtered_link_list.append(f\"https://www.prnewswire.com/news-releases/news-releases-list/\"\n",
    "                              f\"?page=1&pagesize={ARTICLES_TO_EXTRACT_PER_DAY}&month={single_date.month:02}\"\n",
    "                              f\"&day={single_date.day:02}&year={single_date.year:04}&hour={single_date.hour:02}\")\n",
    "\n",
    "for itr in filtered_link_list:\n",
    "    print(itr)"
   ]
  },
  {
   "cell_type": "code",
   "execution_count": 48,
   "metadata": {},
   "outputs": [
    {
     "name": "stderr",
     "output_type": "stream",
     "text": [
      "100%|██████████| 204/204 [02:12<00:00,  1.53it/s]\n",
      "100%|██████████| 204/204 [02:05<00:00,  1.63it/s]\n",
      "100%|██████████| 204/204 [02:08<00:00,  1.59it/s]\n",
      "100%|██████████| 204/204 [01:44<00:00,  1.94it/s]\n",
      "100%|██████████| 204/204 [01:27<00:00,  2.32it/s]\n",
      "100%|██████████| 204/204 [01:22<00:00,  2.46it/s]\n",
      "100%|██████████| 204/204 [01:42<00:00,  1.99it/s]\n",
      "100%|██████████| 204/204 [01:23<00:00,  2.44it/s]\n",
      "100%|██████████| 204/204 [01:18<00:00,  2.59it/s]\n",
      "100%|██████████| 204/204 [01:17<00:00,  2.62it/s]\n",
      "100%|██████████| 204/204 [01:18<00:00,  2.59it/s]\n",
      "100%|██████████| 204/204 [01:24<00:00,  2.40it/s]\n",
      "100%|██████████| 204/204 [01:21<00:00,  2.51it/s]\n",
      "100%|██████████| 204/204 [01:32<00:00,  2.20it/s]\n"
     ]
    }
   ],
   "source": [
    "# Generate a list of required blog links.\n",
    "\n",
    "print(\"Fetching links to articles of past two weeks..\\n\")\n",
    "blogs_link_list = []\n",
    "for i in tqdm(filtered_link_list):\n",
    "    response = requests.get(i)\n",
    "    home_page = BeautifulSoup(response.text, 'html.parser')\n",
    "    news_release_list = list(home_page.find_all(\"a\", attrs={'class': 'newsreleaseconsolidatelink display-outline'}))\n",
    "    # Generate links to each articles.\n",
    "    blogs_link_list.extend([f\"https://www.prnewswire.com{i.attrs.get('href')}\" for i in news_release_list if i.attrs.get(\"href\",\"\")])\n",
    "print(\"\\nFetching complete.\\n\\n\")\n",
    "\n",
    "for itr in blogs_link_list:\n",
    "    print(itr)\n",
    "\n",
    "print(f\"\\n\\nNumber of articles: {len(blogs_link_list)}\")"
   ]
  },
  {
   "cell_type": "code",
   "execution_count": 49,
   "metadata": {},
   "outputs": [
    {
     "name": "stderr",
     "output_type": "stream",
     "text": [
      "100%|██████████| 2673/2673 [00:07<00:00, 346.91it/s]\n"
     ]
    }
   ],
   "source": [
    "# Loop through article links, parse article body, date and add to dataframe.\n",
    "\n",
    "print(\"Extracting data from scrapped content..\\n\\n\")\n",
    "\n",
    "data = pd.DataFrame(columns=[\"url\", \"article_date\", \"article_content\"])\n",
    "\n",
    "for i in blogs_link_list:\n",
    "    blog = requests.get(i)\n",
    "    blog_soup = BeautifulSoup(blog.text, 'html.parser')\n",
    "    blog_body = blog_soup.find(\"section\", attrs={'class': 'release-body container'})\n",
    "    if not blog_body:\n",
    "        blog_body = blog_soup.find(\"section\", attrs={'class': 'release-body container '})\n",
    "    blog_body = blog_body.text if blog_body else \"\"\n",
    "\n",
    "    # Fetch article date.\n",
    "    blog_date = blog_soup.find(\"meta\", attrs={'name': 'date'}).attrs.get(\"content\")\n",
    "    matches = list(datefinder.find_dates(blog_date))\n",
    "    blog_date = str(matches[0]) if matches else \"\"\n",
    "\n",
    "    # Append to dataframe.\n",
    "    data = data.append({\n",
    "        \"url\": i,\n",
    "        \"article_date\": blog_date,\n",
    "        \"article_content\": blog_body},\n",
    "        ignore_index=True)\n",
    "\n"
   ]
  },
  {
   "cell_type": "code",
   "execution_count": 123,
   "metadata": {},
   "outputs": [
    {
     "data": {
      "text/html": [
       "<div>\n",
       "<style scoped>\n",
       "    .dataframe tbody tr th:only-of-type {\n",
       "        vertical-align: middle;\n",
       "    }\n",
       "\n",
       "    .dataframe tbody tr th {\n",
       "        vertical-align: top;\n",
       "    }\n",
       "\n",
       "    .dataframe thead th {\n",
       "        text-align: right;\n",
       "    }\n",
       "</style>\n",
       "<table border=\"1\" class=\"dataframe\">\n",
       "  <thead>\n",
       "    <tr style=\"text-align: right;\">\n",
       "      <th></th>\n",
       "      <th>Article_Title</th>\n",
       "      <th>Article_id</th>\n",
       "      <th>Keyword</th>\n",
       "      <th>Article_Text</th>\n",
       "      <th>Publish Date</th>\n",
       "      <th>Url</th>\n",
       "    </tr>\n",
       "  </thead>\n",
       "  <tbody>\n",
       "    <tr>\n",
       "      <th>0</th>\n",
       "      <td>Internet of Things News and Press Releases fro...</td>\n",
       "      <td>&lt;newspaper.article.Article object at 0x0000021...</td>\n",
       "      <td>[press, subject, sources, request, submit, pro...</td>\n",
       "      <td>Journalists and Bloggers\\n\\nThe news you need,...</td>\n",
       "      <td>None</td>\n",
       "      <td>https://www.prnewswire.com/news-releases/consu...</td>\n",
       "    </tr>\n",
       "    <tr>\n",
       "      <th>1</th>\n",
       "      <td>All Heavy Industry &amp; Manufacturing News and Pr...</td>\n",
       "      <td>&lt;newspaper.article.Article object at 0x0000021...</td>\n",
       "      <td>[press, manufacturing, subject, sources, reque...</td>\n",
       "      <td>Journalists and Bloggers\\n\\nThe news you need,...</td>\n",
       "      <td>None</td>\n",
       "      <td>https://www.prnewswire.com/news-releases/heavy...</td>\n",
       "    </tr>\n",
       "    <tr>\n",
       "      <th>2</th>\n",
       "      <td>All Machine Tools, Metalworking and Metallurgy...</td>\n",
       "      <td>&lt;newspaper.article.Article object at 0x0000021...</td>\n",
       "      <td>[press, subject, sources, request, machine, su...</td>\n",
       "      <td>Journalists and Bloggers\\n\\nThe news you need,...</td>\n",
       "      <td>None</td>\n",
       "      <td>https://www.prnewswire.com/news-releases/heavy...</td>\n",
       "    </tr>\n",
       "    <tr>\n",
       "      <th>3</th>\n",
       "      <td>All Consumer Products &amp; Retail News and Press ...</td>\n",
       "      <td>&lt;newspaper.article.Article object at 0x0000021...</td>\n",
       "      <td>[press, retail, subject, sources, request, sub...</td>\n",
       "      <td>Journalists and Bloggers\\n\\nThe news you need,...</td>\n",
       "      <td>None</td>\n",
       "      <td>https://www.prnewswire.com/news-releases/consu...</td>\n",
       "    </tr>\n",
       "    <tr>\n",
       "      <th>4</th>\n",
       "      <td>All Amusement Parks and Tourist Attractions Ne...</td>\n",
       "      <td>&lt;newspaper.article.Article object at 0x0000021...</td>\n",
       "      <td>[press, subject, sources, request, parks, subm...</td>\n",
       "      <td>Journalists and Bloggers\\n\\nThe news you need,...</td>\n",
       "      <td>None</td>\n",
       "      <td>https://www.prnewswire.com/news-releases/trave...</td>\n",
       "    </tr>\n",
       "    <tr>\n",
       "      <th>...</th>\n",
       "      <td>...</td>\n",
       "      <td>...</td>\n",
       "      <td>...</td>\n",
       "      <td>...</td>\n",
       "      <td>...</td>\n",
       "      <td>...</td>\n",
       "    </tr>\n",
       "    <tr>\n",
       "      <th>2668</th>\n",
       "      <td>What's the new normal for PR pros and press re...</td>\n",
       "      <td>&lt;newspaper.article.Article object at 0x0000021...</td>\n",
       "      <td>[press, release, cisions, normal, pr, releases...</td>\n",
       "      <td>What's the new normal for PR pros and press re...</td>\n",
       "      <td>2021-09-13 00:00:00</td>\n",
       "      <td>https://prnewswire.mediaroom.com/2021-09-13-Wh...</td>\n",
       "    </tr>\n",
       "    <tr>\n",
       "      <th>2669</th>\n",
       "      <td>PR Newswire, Cision Communications Cloud rank ...</td>\n",
       "      <td>&lt;newspaper.article.Article object at 0x0000021...</td>\n",
       "      <td>[g2, ranked, reviews, pr, cloud, best, accordi...</td>\n",
       "      <td>PR Newswire, Cision Communications Cloud rank ...</td>\n",
       "      <td>2021-07-07 00:00:00</td>\n",
       "      <td>https://prnewswire.mediaroom.com/2021-07-07-PR...</td>\n",
       "    </tr>\n",
       "    <tr>\n",
       "      <th>2670</th>\n",
       "      <td>PR Newswire, Cision Communications Cloud rank ...</td>\n",
       "      <td>&lt;newspaper.article.Article object at 0x0000021...</td>\n",
       "      <td>[g2, ranked, reviews, pr, cloud, best, accordi...</td>\n",
       "      <td>PR Newswire, Cision Communications Cloud rank ...</td>\n",
       "      <td>2021-07-07 00:00:00</td>\n",
       "      <td>https://prnewswire.mediaroom.com/2021-07-07-PR...</td>\n",
       "    </tr>\n",
       "    <tr>\n",
       "      <th>2671</th>\n",
       "      <td>Cision Announces Premium Sponsorship of the NI...</td>\n",
       "      <td>&lt;newspaper.article.Article object at 0x0000021...</td>\n",
       "      <td>[virtual, social, technology, solutions, commu...</td>\n",
       "      <td>Cision Announces Premium Sponsorship of the NI...</td>\n",
       "      <td>2021-06-21 00:00:00</td>\n",
       "      <td>https://prnewswire.mediaroom.com/2021-06-21-Ci...</td>\n",
       "    </tr>\n",
       "    <tr>\n",
       "      <th>2672</th>\n",
       "      <td>Cision PR Newswire and DFIN Announce Strategic...</td>\n",
       "      <td>&lt;newspaper.article.Article object at 0x0000021...</td>\n",
       "      <td>[global, disclosure, partnership, compliance, ...</td>\n",
       "      <td>Cision PR Newswire and DFIN Announce Strategic...</td>\n",
       "      <td>2021-06-21 00:00:00</td>\n",
       "      <td>https://prnewswire.mediaroom.com/2021-06-21-Ci...</td>\n",
       "    </tr>\n",
       "  </tbody>\n",
       "</table>\n",
       "<p>2673 rows × 6 columns</p>\n",
       "</div>"
      ],
      "text/plain": [
       "                                          Article_Title  \\\n",
       "0     Internet of Things News and Press Releases fro...   \n",
       "1     All Heavy Industry & Manufacturing News and Pr...   \n",
       "2     All Machine Tools, Metalworking and Metallurgy...   \n",
       "3     All Consumer Products & Retail News and Press ...   \n",
       "4     All Amusement Parks and Tourist Attractions Ne...   \n",
       "...                                                 ...   \n",
       "2668  What's the new normal for PR pros and press re...   \n",
       "2669  PR Newswire, Cision Communications Cloud rank ...   \n",
       "2670  PR Newswire, Cision Communications Cloud rank ...   \n",
       "2671  Cision Announces Premium Sponsorship of the NI...   \n",
       "2672  Cision PR Newswire and DFIN Announce Strategic...   \n",
       "\n",
       "                                             Article_id  \\\n",
       "0     <newspaper.article.Article object at 0x0000021...   \n",
       "1     <newspaper.article.Article object at 0x0000021...   \n",
       "2     <newspaper.article.Article object at 0x0000021...   \n",
       "3     <newspaper.article.Article object at 0x0000021...   \n",
       "4     <newspaper.article.Article object at 0x0000021...   \n",
       "...                                                 ...   \n",
       "2668  <newspaper.article.Article object at 0x0000021...   \n",
       "2669  <newspaper.article.Article object at 0x0000021...   \n",
       "2670  <newspaper.article.Article object at 0x0000021...   \n",
       "2671  <newspaper.article.Article object at 0x0000021...   \n",
       "2672  <newspaper.article.Article object at 0x0000021...   \n",
       "\n",
       "                                                Keyword  \\\n",
       "0     [press, subject, sources, request, submit, pro...   \n",
       "1     [press, manufacturing, subject, sources, reque...   \n",
       "2     [press, subject, sources, request, machine, su...   \n",
       "3     [press, retail, subject, sources, request, sub...   \n",
       "4     [press, subject, sources, request, parks, subm...   \n",
       "...                                                 ...   \n",
       "2668  [press, release, cisions, normal, pr, releases...   \n",
       "2669  [g2, ranked, reviews, pr, cloud, best, accordi...   \n",
       "2670  [g2, ranked, reviews, pr, cloud, best, accordi...   \n",
       "2671  [virtual, social, technology, solutions, commu...   \n",
       "2672  [global, disclosure, partnership, compliance, ...   \n",
       "\n",
       "                                           Article_Text         Publish Date  \\\n",
       "0     Journalists and Bloggers\\n\\nThe news you need,...                 None   \n",
       "1     Journalists and Bloggers\\n\\nThe news you need,...                 None   \n",
       "2     Journalists and Bloggers\\n\\nThe news you need,...                 None   \n",
       "3     Journalists and Bloggers\\n\\nThe news you need,...                 None   \n",
       "4     Journalists and Bloggers\\n\\nThe news you need,...                 None   \n",
       "...                                                 ...                  ...   \n",
       "2668  What's the new normal for PR pros and press re...  2021-09-13 00:00:00   \n",
       "2669  PR Newswire, Cision Communications Cloud rank ...  2021-07-07 00:00:00   \n",
       "2670  PR Newswire, Cision Communications Cloud rank ...  2021-07-07 00:00:00   \n",
       "2671  Cision Announces Premium Sponsorship of the NI...  2021-06-21 00:00:00   \n",
       "2672  Cision PR Newswire and DFIN Announce Strategic...  2021-06-21 00:00:00   \n",
       "\n",
       "                                                    Url  \n",
       "0     https://www.prnewswire.com/news-releases/consu...  \n",
       "1     https://www.prnewswire.com/news-releases/heavy...  \n",
       "2     https://www.prnewswire.com/news-releases/heavy...  \n",
       "3     https://www.prnewswire.com/news-releases/consu...  \n",
       "4     https://www.prnewswire.com/news-releases/trave...  \n",
       "...                                                 ...  \n",
       "2668  https://prnewswire.mediaroom.com/2021-09-13-Wh...  \n",
       "2669  https://prnewswire.mediaroom.com/2021-07-07-PR...  \n",
       "2670  https://prnewswire.mediaroom.com/2021-07-07-PR...  \n",
       "2671  https://prnewswire.mediaroom.com/2021-06-21-Ci...  \n",
       "2672  https://prnewswire.mediaroom.com/2021-06-21-Ci...  \n",
       "\n",
       "[2673 rows x 6 columns]"
      ]
     },
     "execution_count": 123,
     "metadata": {},
     "output_type": "execute_result"
    }
   ],
   "source": [
    "data.head()"
   ]
  },
  {
   "cell_type": "code",
   "execution_count": 124,
   "metadata": {},
   "outputs": [],
   "source": [
    "#Dropping duplicates if any\n",
    "data.drop_duplicates(subset = \"article_content\",inplace = True,ignore_index = True)"
   ]
  },
  {
   "cell_type": "code",
   "execution_count": 285,
   "metadata": {},
   "outputs": [],
   "source": [
    "tickers = set()\n",
    "for i in range(len(data)):\n",
    "    temp = re.findall(r':\\s[A-Z]{1,5}[)]',data.iloc[i][\"article_content\"])\n",
    "    for tick in temp: \n",
    "        tickers.add(tick[-(len(tick) - 2):-1])"
   ]
  },
  {
   "cell_type": "code",
   "execution_count": 297,
   "metadata": {},
   "outputs": [
    {
     "name": "stdout",
     "output_type": "stream",
     "text": [
      "- RI: No data found for this date range, symbol may be delisted\n"
     ]
    }
   ],
   "source": [
    "stocks = {}\n",
    "for tick in tickers:\n",
    "    stocks[tick] = yf.Ticker(tick).history(period = \"YTD\")"
   ]
  },
  {
   "cell_type": "code",
   "execution_count": null,
   "metadata": {},
   "outputs": [],
   "source": [
    "def candlestick(ticker,increasing_line,decreasing_line):\n",
    "        fig = go.Figure(data=[go.Candlestick(x=stocks[ticker].index,\n",
    "                open=stocks[ticker]['Open'],\n",
    "                high=stocks[ticker]['High'],\n",
    "                low=stocks[ticker]['Low'],\n",
    "                close=stocks[ticker]['Close'],increasing_line_color= increasing_line, decreasing_line_color= decreasing_line)])\n",
    "        fig.update_layout(autosize=False,\n",
    "        width=1000,\n",
    "        height=800,)\n",
    "        fig.show()\n",
    "        \n",
    "def plot_tick(ticker):\n",
    "    fig = plt.figure(figsize=(30,21))\n",
    "    ax1 = plt.subplot(2, 2, 1)\n",
    "    plt.xticks(rotation=45)\n",
    "    plt.xticks(fontsize = 20)\n",
    "    plt.yticks(fontsize = 20)\n",
    "    ax2 = plt.subplot(2, 2, 2)\n",
    "    plt.xticks(rotation=45)\n",
    "    plt.xticks(fontsize = 20)\n",
    "    plt.yticks(fontsize = 20)\n",
    "    ax2.yaxis.offsetText.set_fontsize(20)\n",
    "    ax1.plot(stocks[ticker][\"Close\"])\n",
    "    ax2.plot(stocks[ticker][\"Volume\"])"
   ]
  },
  {
   "cell_type": "code",
   "execution_count": null,
   "metadata": {},
   "outputs": [],
   "source": [
    "widgets.interact(candlestick, ticker = stocks.keys(),increasing_line = i_cl,decreasing_line = d_cl)"
   ]
  },
  {
   "cell_type": "code",
   "execution_count": null,
   "metadata": {},
   "outputs": [],
   "source": [
    "widgets.interact(plot_tick, ticker = stocks.keys())"
   ]
  },
  {
   "cell_type": "code",
   "execution_count": 3,
   "metadata": {},
   "outputs": [
    {
     "ename": "NameError",
     "evalue": "name 'data' is not defined",
     "output_type": "error",
     "traceback": [
      "\u001b[1;31m---------------------------------------------------------------------------\u001b[0m",
      "\u001b[1;31mNameError\u001b[0m                                 Traceback (most recent call last)",
      "\u001b[1;32m<ipython-input-3-154af1531724>\u001b[0m in \u001b[0;36m<module>\u001b[1;34m\u001b[0m\n\u001b[1;32m----> 1\u001b[1;33m \u001b[0mdata\u001b[0m\u001b[1;33m.\u001b[0m\u001b[0mto_excel\u001b[0m\u001b[1;33m(\u001b[0m\u001b[1;34m\"Scraping.xlsx\"\u001b[0m\u001b[1;33m,\u001b[0m\u001b[0mindex\u001b[0m \u001b[1;33m=\u001b[0m \u001b[1;32mFalse\u001b[0m\u001b[1;33m)\u001b[0m\u001b[1;33m\u001b[0m\u001b[1;33m\u001b[0m\u001b[0m\n\u001b[0m",
      "\u001b[1;31mNameError\u001b[0m: name 'data' is not defined"
     ]
    }
   ],
   "source": [
    "data.to_excel(\"Scraping.xlsx\",index = False)"
   ]
  }
 ],
 "metadata": {
  "kernelspec": {
   "display_name": "Python 3",
   "language": "python",
   "name": "python3"
  },
  "language_info": {
   "codemirror_mode": {
    "name": "ipython",
    "version": 3
   },
   "file_extension": ".py",
   "mimetype": "text/x-python",
   "name": "python",
   "nbconvert_exporter": "python",
   "pygments_lexer": "ipython3",
   "version": "3.8.5"
  }
 },
 "nbformat": 4,
 "nbformat_minor": 4
}
