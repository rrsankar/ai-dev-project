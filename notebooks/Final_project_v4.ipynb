{
 "cells": [
  {
   "cell_type": "code",
   "execution_count": null,
   "metadata": {},
   "outputs": [],
   "source": [
    "# BeautifulSoup Documentation - https://beautiful-soup-4.readthedocs.io/en/latest/\n",
    "# BeautifulSoup @ pypi.org - https://pypi.org/project/beautifulsoup4/"
   ]
  },
  {
   "cell_type": "code",
   "execution_count": null,
   "metadata": {},
   "outputs": [],
   "source": [
    "# !pip install datefinder\n",
    "# !pip install yfinance"
   ]
  },
  {
   "cell_type": "code",
   "execution_count": 1,
   "metadata": {},
   "outputs": [],
   "source": [
    "import re\n",
    "from datetime import datetime, timedelta\n",
    "import pandas as pd\n",
    "from tqdm import tqdm\n",
    "import requests\n",
    "import datefinder\n",
    "from bs4 import BeautifulSoup\n",
    "import yfinance as yf\n",
    "import matplotlib.pyplot as plt\n",
    "from matplotlib.pyplot import figure\n",
    "import plotly.graph_objects as go\n",
    "import ipywidgets as widgets\n",
    "import warnings\n",
    "warnings.filterwarnings(\"ignore\")"
   ]
  },
  {
   "cell_type": "code",
   "execution_count": 2,
   "metadata": {},
   "outputs": [],
   "source": [
    "# Initialize constants.\n",
    "\n",
    "ARTICLES_TO_EXTRACT_PER_DAY = 4"
   ]
  },
  {
   "cell_type": "code",
   "execution_count": 3,
   "metadata": {},
   "outputs": [
    {
     "name": "stdout",
     "output_type": "stream",
     "text": [
      "\n",
      "Parsing data from 11/17/2021 20:00 to 11/30/2021 20:00\n",
      "\n",
      "https://www.prnewswire.com/news-releases/news-releases-list/?page=1&pagesize=4&month=11&day=17&year=2021&hour=20\n",
      "https://www.prnewswire.com/news-releases/news-releases-list/?page=1&pagesize=4&month=11&day=18&year=2021&hour=20\n",
      "https://www.prnewswire.com/news-releases/news-releases-list/?page=1&pagesize=4&month=11&day=19&year=2021&hour=20\n",
      "https://www.prnewswire.com/news-releases/news-releases-list/?page=1&pagesize=4&month=11&day=20&year=2021&hour=20\n",
      "https://www.prnewswire.com/news-releases/news-releases-list/?page=1&pagesize=4&month=11&day=21&year=2021&hour=20\n",
      "https://www.prnewswire.com/news-releases/news-releases-list/?page=1&pagesize=4&month=11&day=22&year=2021&hour=20\n",
      "https://www.prnewswire.com/news-releases/news-releases-list/?page=1&pagesize=4&month=11&day=23&year=2021&hour=20\n",
      "https://www.prnewswire.com/news-releases/news-releases-list/?page=1&pagesize=4&month=11&day=24&year=2021&hour=20\n",
      "https://www.prnewswire.com/news-releases/news-releases-list/?page=1&pagesize=4&month=11&day=25&year=2021&hour=20\n",
      "https://www.prnewswire.com/news-releases/news-releases-list/?page=1&pagesize=4&month=11&day=26&year=2021&hour=20\n",
      "https://www.prnewswire.com/news-releases/news-releases-list/?page=1&pagesize=4&month=11&day=27&year=2021&hour=20\n",
      "https://www.prnewswire.com/news-releases/news-releases-list/?page=1&pagesize=4&month=11&day=28&year=2021&hour=20\n",
      "https://www.prnewswire.com/news-releases/news-releases-list/?page=1&pagesize=4&month=11&day=29&year=2021&hour=20\n",
      "https://www.prnewswire.com/news-releases/news-releases-list/?page=1&pagesize=4&month=11&day=30&year=2021&hour=20\n"
     ]
    }
   ],
   "source": [
    "# Get start and end date to fetch articles.\n",
    "current_time = datetime.now()\n",
    "time_two_weeks_back = current_time - timedelta(days=13)\n",
    "print(f\"\\nParsing data from \" + time_two_weeks_back.strftime(\"%m/%d/%Y %H:00\") + \" to \" + current_time.strftime(\"%m/%d/%Y %H:00\") + \"\\n\")\n",
    "\n",
    "# Generate a list of links that fetches news release of past two weeks.\n",
    "filtered_link_list = []\n",
    "for single_date in pd.date_range(time_two_weeks_back, current_time):\n",
    "    filtered_link_list.append(f\"https://www.prnewswire.com/news-releases/news-releases-list/\"\n",
    "                              f\"?page=1&pagesize={ARTICLES_TO_EXTRACT_PER_DAY}&month={single_date.month:02}\"\n",
    "                              f\"&day={single_date.day:02}&year={single_date.year:04}&hour={single_date.hour:02}\")\n",
    "\n",
    "for itr in filtered_link_list:\n",
    "    print(itr)"
   ]
  },
  {
   "cell_type": "code",
   "execution_count": 4,
   "metadata": {},
   "outputs": [
    {
     "name": "stderr",
     "output_type": "stream",
     "text": [
      "  0%|          | 0/14 [00:00<?, ?it/s]"
     ]
    },
    {
     "name": "stdout",
     "output_type": "stream",
     "text": [
      "Fetching links to articles of past two weeks..\n",
      "\n"
     ]
    },
    {
     "name": "stderr",
     "output_type": "stream",
     "text": [
      "100%|██████████| 14/14 [00:12<00:00,  1.15it/s]"
     ]
    },
    {
     "name": "stdout",
     "output_type": "stream",
     "text": [
      "\n",
      "Fetching complete.\n",
      "\n",
      "\n",
      "https://www.prnewswire.com/news-releases/tripcom-group-and-wyndham-hotels--resorts-sign-strategic-global-agreement-301427392.html\n",
      "https://www.prnewswire.com/news-releases/southwest-gas-holdings-declares-first-quarter-2022-dividend-301427399.html\n",
      "https://www.prnewswire.com/news-releases/system-integration-services-market-to-record-6-25-cagr-by-2025--accenture-plc-and-capgemini-se-among-key-vendors--technavio-301425724.html\n",
      "https://www.prnewswire.com/news-releases/quattro-development-announces-settlement-of-lawsuit-with-mattress-firm-301427419.html\n",
      "https://www.prnewswire.com/news-releases/dairy-free-market-size-to-grow-by-usd-11-12-bn-from-2020-to-2025--blue-diamond-growers-and-campbell-soup-co-among-key-market-contributors--technavio-301426859.html\n",
      "https://www.prnewswire.com/news-releases/tennecos-cvsae-suspension-technology-to-be-featured-on-new-hybrid-suv-model-for-china-301428478.html\n",
      "https://www.prnewswire.com/news-releases/glen-gery-celebrates-launch-of-its-2022-collection-301428568.html\n",
      "https://www.prnewswire.com/news-releases/eqt-announces-pricing-of-offering-of-common-stock-by-selling-shareholders-301428765.html\n",
      "https://www.prnewswire.com/news-releases/pancake-mixed-market-to-grow-by-usd-152-44-billion-increasing-influence-of-food-channels-and-shows-on-tv-to-prepare-pancakes-at-home-acts-as-key-driver--17000-technavio-reports-301428166.html\n",
      "https://www.prnewswire.com/news-releases/if-you-made-a-point-of-sale-purchase-at-a-forever-21-store-using-a-credit-debit-or-other-payment-card-you-may-be-eligible-for-a-payment-from-a-class-action-settlement-301428385.html\n",
      "https://www.prnewswire.com/news-releases/shareholder-alert-monteverde--associates-pc-announces-an-investigation-of-viasat-inc--vsat-301429367.html\n",
      "https://www.prnewswire.com/news-releases/-route-to-the-top-bericht-2021-von-heidrick-amp-struggles-ceo-ernennungen-erreichen-rekordwerte-und-ubertreffen-hochstwerte-vor-den-pandemie-801647945.html\n",
      "https://www.prnewswire.com/news-releases/nestle-health-science-partners-with-healint-to-initiate-a-fully-virtual-study-on-ketogenic-treatment-for-migraines-301429542.html\n",
      "https://www.prnewswire.com/news-releases/nvax-alert-novavax-inc-investors-with-substantial-losses-have-opportunity-to-lead-class-action-lawsuit-301429459.html\n",
      "https://www.prnewswire.com/news-releases/zme-deadline-robbins-geller-rudman--dowd-llp-files-class-action-suit-against-zhangmen-education-inc-and-announces-opportunity-for-investors-with-substantial-losses-to-lead-case-301429461.html\n",
      "https://www.prnewswire.com/news-releases/honda-ridgeline-off-road-race-truck-wins-baja-1000-301429533.html\n",
      "https://www.prnewswire.com/news-releases/lifes-good-film-applauded-recognized-at-international-film-festivals-301428957.html\n",
      "https://www.prnewswire.com/news-releases/atari-atri-um-projeto-de-jogo-de-marca-bem-conhecido-sera-lancado-na-mexc-global-em-20-de-novembro-841048331.html\n",
      "https://www.prnewswire.com/news-releases/innovent-releases-the-orient-31-phase-3-study-first-interim-analysis-results-of-sintilimab-plus-byvasda-bevacizumab-biosimilar-injection-and-chemotherapy-in-patients-with-egfr-mutated-nonsquamous-non-small-cell-lung-cancer-who-p-301429490.html\n",
      "https://www.prnewswire.com/news-releases/innovent-announces-inclusion-of-the-companys-stock-01801hk-in-the-hang-seng-china-enterprises-index-301429551.html\n",
      "https://www.prnewswire.com/news-releases/deep-cycle-batteries-market-size-to-grow-by-usd-2-41-bn--cd-technologies-inc-and-crown-battery-manufacturing-co-emerge-as-dominant-players--technavio-301428668.html\n",
      "https://www.prnewswire.com/news-releases/taifang-aims-for-large-size-ultra-thin-forcepad-solution-in-pc-trackpads-301429979.html\n",
      "https://www.prnewswire.com/news-releases/fsp-introduces-u3-series-adapter-thats-50-smaller-but-just-as-efficient-as-the-previous-generation-301429902.html\n",
      "https://www.prnewswire.com/news-releases/fsp-stellt-die-netzadapter-der-u3-serie-vor-50-kleiner-genauso-effizient-wie-die-vorgangergeneration-858455053.html\n",
      "https://www.prnewswire.com/news-releases/khiron-announces-grants-of-options-and-restricted-share-units-301431317.html\n",
      "https://www.prnewswire.com/news-releases/polyurethane-coatings-market-to-grow-by-usd-8-22-billion--industry-analysis-market-trends-market-growth-opportunities-and-forecast---17000-technavio-reports-301429997.html\n",
      "https://www.prnewswire.com/news-releases/ongoing-investigation-alert-the-schall-law-firm-announces-it-is-investigating-claims-against-marathon-digital-holdings-inc-and-encourages-investors-with-losses-to-contact-the-firm-301431265.html\n",
      "https://www.prnewswire.com/news-releases/investigation-reminder-the-schall-law-firm-announces-it-is-investigating-claims-against-desktop-metal-inc-and-encourages-investors-with-losses-to-contact-the-firm-301431252.html\n",
      "https://www.prnewswire.com/news-releases/rosen-a-global-and-leading-law-firm-encourages-stoneco-ltd-investors-with-losses-in-excess-of-100k-to-secure-counsel-before-important-deadline-in-securities-class-action--stne-301431795.html\n",
      "https://www.prnewswire.com/news-releases/us-10-25-billion-growth-in-electric-vehicle-battery-thermal-management-system-ev-btms-market--increasing-demand-for-evs-and-their-expanded-applications-to-boost-growth--technavio-301430909.html\n",
      "https://www.prnewswire.com/news-releases/polymega-hd-modular-game-console-releases-reveals-n64-support-with-em05-ultra-element-module-set-301431955.html\n",
      "https://www.prnewswire.com/news-releases/black-friday-y-cyber-monday-consolidated-credit-le-invita-a-que-se-aferre-a-un-presupuesto-para-las-fiestas-815793054.html\n",
      "https://www.prnewswire.com/news-releases/automotive-trailer-market-size-to-grow-by-usd-4-99-bn--rapidly-growing-transportation-and-logistics-industry-to-boost-growth--technavio-301431533.html\n",
      "https://www.prnewswire.com/news-releases/global-ai-leader-laiye-partners-with-huawei-cloud-to-power-brazils-digital-transformation-301432208.html\n",
      "https://www.prnewswire.com/news-releases/el-evento-intercambio-comercial-y-economico-y-actividades-de-busqueda-de-socios-potenciales-entre-zhuhai-y-los-paises-de-latinoamerica-y-el-caribe-se-llevo-a-cabo-con-exito-en-zhuhai-provincia-de-guangdong-china-824053545.html\n",
      "https://www.prnewswire.com/news-releases/plataforma-fintech-de-ultima-geracao-defiato-conclui-primeira-rodada-de-arrecadacao-de-fundos-privados-890822353.html\n",
      "https://www.prnewswire.com/news-releases/wow-wow-classic-waffles-launches-online-auction-of-rare-nascar-and-motocross-race-memorabilia-to-benefit-feeding-america-301431814.html\n",
      "https://www.prnewswire.com/news-releases/elevation-gold-reports-revenue-of-us12-1-million-financial-results-for-quarter-ending-september-30--2021--301432534.html\n",
      "https://www.prnewswire.com/news-releases/k-12-game-based-learning-market-to-grow-at-a-cagr-of-20-63-by-2025--surging-investments-from-venture-capitalists-to-boost-growth--17000-technavio-reports-301432053.html\n",
      "https://www.prnewswire.com/news-releases/viasat-investor-alert-by-the-former-attorney-general-of-louisiana-kahn-swick--foti-llc-investigates-merger-of-viasat-inc---vsat-301432506.html\n",
      "https://www.prnewswire.com/news-releases/deadline-playtika-holding-corp-investors-with-substantial-losses-have-opportunity-to-lead-class-action-lawsuit--pltk-301431881.html\n",
      "https://www.prnewswire.com/news-releases/rosen-trusted-and-top-ranked-investor-counsel-encourages-american-century-value-fund-investors-with-losses-to-secure-counsel-before-important-deadline-in-securities-class-action--twvlx-avlix-avuyx-twadx-aclcx-avurx-avugx-301431919.html\n",
      "https://www.prnewswire.com/news-releases/rosen-trusted-investor-counsel-encourages-zhangmen-education-inc-investors-with-losses-to-secure-counsel-before-important-deadline-in-securities-class-action--zme-301431936.html\n",
      "https://www.prnewswire.com/news-releases/best-cyber-monday-deals-2021---continue-discount-with-black-friday-in-nadula-301432559.html\n",
      "https://www.prnewswire.com/news-releases/rosen-a-leading-and-ranked-firm-encourages-meta-platforms-inc-fka-facebook-inc-investors-with-losses-in-excess-of-1mm-to-secure-counsel-before-important-deadline-in-securities-class-action-commenced-by-the-firm--fb-301431932.html\n",
      "https://www.prnewswire.com/news-releases/powering-the-next-phase-of-networking-301432284.html\n",
      "https://www.prnewswire.com/news-releases/rosen-a-longstanding-and-trusted-firm-encourages-d-market-elektronik-hizmetler-ve-ticaret-anonim-sirketi-dba-hepsiburada-investors-with-losses-in-excess-of-100k-to-secure-counsel-before-important-deadline-in-securities-class--301431921.html\n",
      "https://www.prnewswire.com/news-releases/final-deadline-reminder-kessler-topaz-meltzer--check-llp-reminds-investors-of-lead-plaintiff-deadline-in-securities-fraud-class-action-lawsuit-filed-against-hyzon-motors-inc-hyzn-301431939.html\n",
      "https://www.prnewswire.com/news-releases/usd-1-76-bn-growth-in-urethane-adhesives-market--growing-demand-from-building-and-construction-industry-to-drive-growth--technavio-301432347.html\n",
      "https://www.prnewswire.com/news-releases/rategain-strengthens-focus-on-customer-success-by-achieving-level-iii-global-support-certification-301432955.html\n",
      "https://www.prnewswire.com/news-releases/lg-creating-physical-and-virtual-experience-at-ces-2022-to-engage-global-audiences-301433363.html\n",
      "https://www.prnewswire.com/news-releases/urgent-the-ma-firm-is-investigating-the-merger-of-baycom-corp--bcml-301433238.html\n",
      "https://www.prnewswire.com/news-releases/inbank-and-legacy-bank-announce-agreement-to-merge-301434556.html\n",
      "https://www.prnewswire.com/news-releases/airborne-light-detection-and-ranging-system-market-to-grow-by-usd-900-41-mn-application-of-remote-sensing-technologies-for-disaster-management-to-drive-growth-17000-technavio-reports-301433070.html\n",
      "https://www.prnewswire.com/news-releases/sinopec-presenta-el-proyecto-de-produccion-de-hidrogeno-verde-por-energia-fotovoltaica-mas-grande-del-mundo-en-kuqa-xinjiang-815772769.html\n",
      "https://www.prnewswire.com/news-releases/sinopec-lanca-o-maior-projeto-fotovoltaico-de-producao-de-hidrogenio-verde-do-mundo-em-kuqa-xinjiang-863178543.html\n",
      "\n",
      "\n",
      "Number of articles: 56\n"
     ]
    },
    {
     "name": "stderr",
     "output_type": "stream",
     "text": [
      "\n"
     ]
    }
   ],
   "source": [
    "# Generate a list of required blog links.\n",
    "\n",
    "print(\"Fetching links to articles of past two weeks..\\n\")\n",
    "blogs_link_list = []\n",
    "for i in tqdm(filtered_link_list):\n",
    "    response = requests.get(i)\n",
    "    home_page = BeautifulSoup(response.text, 'html.parser')\n",
    "    news_release_list = list(home_page.find_all(\"a\", attrs={'class': 'newsreleaseconsolidatelink display-outline'}))\n",
    "    # Generate links to each articles.\n",
    "    blogs_link_list.extend([f\"https://www.prnewswire.com{i.attrs.get('href')}\" for i in news_release_list if i.attrs.get(\"href\",\"\")])\n",
    "print(\"\\nFetching complete.\\n\\n\")\n",
    "\n",
    "for itr in blogs_link_list:\n",
    "    print(itr)\n",
    "\n",
    "print(f\"\\n\\nNumber of articles: {len(blogs_link_list)}\")"
   ]
  },
  {
   "cell_type": "code",
   "execution_count": 5,
   "metadata": {},
   "outputs": [
    {
     "name": "stdout",
     "output_type": "stream",
     "text": [
      "Extracting data from scrapped content..\n",
      "\n",
      "\n"
     ]
    }
   ],
   "source": [
    "# Loop through article links, parse article body, date and add to dataframe.\n",
    "\n",
    "print(\"Extracting data from scrapped content..\\n\\n\")\n",
    "\n",
    "data = pd.DataFrame(columns=[\"url\", \"article_date\", \"article_content\"])\n",
    "\n",
    "for i in blogs_link_list:\n",
    "    blog = requests.get(i)\n",
    "    blog_soup = BeautifulSoup(blog.text, 'html.parser')\n",
    "    blog_body = blog_soup.find(\"section\", attrs={'class': 'release-body container'})\n",
    "    if not blog_body:\n",
    "        blog_body = blog_soup.find(\"section\", attrs={'class': 'release-body container '})\n",
    "    blog_body = blog_body.text if blog_body else \"\"\n",
    "\n",
    "    # Fetch article date.\n",
    "    blog_date = blog_soup.find(\"meta\", attrs={'name': 'date'}).attrs.get(\"content\")\n",
    "    matches = list(datefinder.find_dates(blog_date))\n",
    "    blog_date = str(matches[0]) if matches else \"\"\n",
    "\n",
    "    # Append to dataframe.\n",
    "    data = data.append({\n",
    "        \"url\": i,\n",
    "        \"article_date\": blog_date,\n",
    "        \"article_content\": blog_body},\n",
    "        ignore_index=True)\n",
    "\n"
   ]
  },
  {
   "cell_type": "code",
   "execution_count": 6,
   "metadata": {},
   "outputs": [
    {
     "data": {
      "text/html": [
       "<div>\n",
       "<style scoped>\n",
       "    .dataframe tbody tr th:only-of-type {\n",
       "        vertical-align: middle;\n",
       "    }\n",
       "\n",
       "    .dataframe tbody tr th {\n",
       "        vertical-align: top;\n",
       "    }\n",
       "\n",
       "    .dataframe thead th {\n",
       "        text-align: right;\n",
       "    }\n",
       "</style>\n",
       "<table border=\"1\" class=\"dataframe\">\n",
       "  <thead>\n",
       "    <tr style=\"text-align: right;\">\n",
       "      <th></th>\n",
       "      <th>url</th>\n",
       "      <th>article_date</th>\n",
       "      <th>article_content</th>\n",
       "    </tr>\n",
       "  </thead>\n",
       "  <tbody>\n",
       "    <tr>\n",
       "      <th>0</th>\n",
       "      <td>https://www.prnewswire.com/news-releases/tripc...</td>\n",
       "      <td>2021-11-17 20:00:00-05:00</td>\n",
       "      <td>\\n\\n\\nSHANGHAI, Nov. 17, 2021 /PRNewswire/ -- ...</td>\n",
       "    </tr>\n",
       "    <tr>\n",
       "      <th>1</th>\n",
       "      <td>https://www.prnewswire.com/news-releases/south...</td>\n",
       "      <td>2021-11-17 20:00:00-05:00</td>\n",
       "      <td>\\n\\n\\nLAS VEGAS, Nov. 17, 2021 /PRNewswire/ --...</td>\n",
       "    </tr>\n",
       "    <tr>\n",
       "      <th>2</th>\n",
       "      <td>https://www.prnewswire.com/news-releases/syste...</td>\n",
       "      <td>2021-11-17 20:00:00-05:00</td>\n",
       "      <td>\\n\\n\\nNEW YORK, Nov. 17, 2021 /PRNewswire/ -- ...</td>\n",
       "    </tr>\n",
       "    <tr>\n",
       "      <th>3</th>\n",
       "      <td>https://www.prnewswire.com/news-releases/quatt...</td>\n",
       "      <td>2021-11-17 20:00:00-05:00</td>\n",
       "      <td>\\n\\n\\nOAK BROOK, Ill., Nov. 17, 2021 /PRNewswi...</td>\n",
       "    </tr>\n",
       "    <tr>\n",
       "      <th>4</th>\n",
       "      <td>https://www.prnewswire.com/news-releases/dairy...</td>\n",
       "      <td>2021-11-18 20:00:00-05:00</td>\n",
       "      <td>\\n\\n\\nNEW YORK, Nov. 18, 2021 /PRNewswire/ -- ...</td>\n",
       "    </tr>\n",
       "  </tbody>\n",
       "</table>\n",
       "</div>"
      ],
      "text/plain": [
       "                                                 url  \\\n",
       "0  https://www.prnewswire.com/news-releases/tripc...   \n",
       "1  https://www.prnewswire.com/news-releases/south...   \n",
       "2  https://www.prnewswire.com/news-releases/syste...   \n",
       "3  https://www.prnewswire.com/news-releases/quatt...   \n",
       "4  https://www.prnewswire.com/news-releases/dairy...   \n",
       "\n",
       "                article_date  \\\n",
       "0  2021-11-17 20:00:00-05:00   \n",
       "1  2021-11-17 20:00:00-05:00   \n",
       "2  2021-11-17 20:00:00-05:00   \n",
       "3  2021-11-17 20:00:00-05:00   \n",
       "4  2021-11-18 20:00:00-05:00   \n",
       "\n",
       "                                     article_content  \n",
       "0  \\n\\n\\nSHANGHAI, Nov. 17, 2021 /PRNewswire/ -- ...  \n",
       "1  \\n\\n\\nLAS VEGAS, Nov. 17, 2021 /PRNewswire/ --...  \n",
       "2  \\n\\n\\nNEW YORK, Nov. 17, 2021 /PRNewswire/ -- ...  \n",
       "3  \\n\\n\\nOAK BROOK, Ill., Nov. 17, 2021 /PRNewswi...  \n",
       "4  \\n\\n\\nNEW YORK, Nov. 18, 2021 /PRNewswire/ -- ...  "
      ]
     },
     "execution_count": 6,
     "metadata": {},
     "output_type": "execute_result"
    }
   ],
   "source": [
    "data.head()"
   ]
  },
  {
   "cell_type": "code",
   "execution_count": 7,
   "metadata": {},
   "outputs": [],
   "source": [
    "#Dropping duplicates if any\n",
    "data.drop_duplicates(subset = \"article_content\",inplace = True,ignore_index = True)"
   ]
  },
  {
   "cell_type": "code",
   "execution_count": 8,
   "metadata": {},
   "outputs": [],
   "source": [
    "tickers = set()\n",
    "for i in range(len(data)):\n",
    "    temp = re.findall(r':\\s[A-Z]{1,5}[)]',data.iloc[i][\"article_content\"])\n",
    "    for tick in temp: \n",
    "        tickers.add(tick[-(len(tick) - 2):-1])"
   ]
  },
  {
   "cell_type": "code",
   "execution_count": 9,
   "metadata": {},
   "outputs": [
    {
     "name": "stdout",
     "output_type": "stream",
     "text": [
      "- KHRN: No data found, symbol may be delisted\n",
      "- DCRB: No data found, symbol may be delisted\n"
     ]
    }
   ],
   "source": [
    "stocks = {}\n",
    "for tick in tickers:\n",
    "    stocks[tick] = yf.Ticker(tick).history(period = \"YTD\")"
   ]
  },
  {
   "cell_type": "code",
   "execution_count": 12,
   "metadata": {},
   "outputs": [],
   "source": [
    "def candlestick(ticker,increasing_line,decreasing_line):\n",
    "        fig = go.Figure(data=[go.Candlestick(x=stocks[ticker].index,\n",
    "                open=stocks[ticker]['Open'],\n",
    "                high=stocks[ticker]['High'],\n",
    "                low=stocks[ticker]['Low'],\n",
    "                close=stocks[ticker]['Close'],increasing_line_color= increasing_line, decreasing_line_color= decreasing_line)])\n",
    "        fig.update_layout(autosize=False,\n",
    "        width=1000,\n",
    "        height=800,)\n",
    "        fig.show()\n",
    "        \n",
    "def plot_tick(ticker):\n",
    "    fig = plt.figure(figsize=(30,21))\n",
    "    ax1 = plt.subplot(2, 2, 1)\n",
    "    plt.xticks(rotation=45)\n",
    "    plt.xticks(fontsize = 20)\n",
    "    plt.yticks(fontsize = 20)\n",
    "    ax2 = plt.subplot(2, 2, 2)\n",
    "    plt.xticks(rotation=45)\n",
    "    plt.xticks(fontsize = 20)\n",
    "    plt.yticks(fontsize = 20)\n",
    "    ax2.yaxis.offsetText.set_fontsize(20)\n",
    "    ax1.plot(stocks[ticker][\"Close\"])\n",
    "    ax2.plot(stocks[ticker][\"Volume\"])\n",
    "i_cl = [\"gold\",\"green\",\"cyan\"]\n",
    "d_cl = [\"gray\",\"red\",\"black\"]"
   ]
  },
  {
   "cell_type": "code",
   "execution_count": 13,
   "metadata": {},
   "outputs": [
    {
     "data": {
      "application/vnd.jupyter.widget-view+json": {
       "model_id": "d37926be6ac74db2a10b6e5834d062fa",
       "version_major": 2,
       "version_minor": 0
      },
      "text/plain": [
       "interactive(children=(Dropdown(description='ticker', options=('DM', 'HYZN', 'EVGDF', 'FB', 'HEPS', 'ZME', 'MAR…"
      ]
     },
     "metadata": {},
     "output_type": "display_data"
    },
    {
     "data": {
      "text/plain": [
       "<function __main__.candlestick(ticker, increasing_line, decreasing_line)>"
      ]
     },
     "execution_count": 13,
     "metadata": {},
     "output_type": "execute_result"
    }
   ],
   "source": [
    "widgets.interact(candlestick, ticker = stocks.keys(),increasing_line = i_cl,decreasing_line = d_cl)"
   ]
  },
  {
   "cell_type": "code",
   "execution_count": 14,
   "metadata": {},
   "outputs": [
    {
     "data": {
      "application/vnd.jupyter.widget-view+json": {
       "model_id": "86c5c492793046f7bdde49f520a66c5c",
       "version_major": 2,
       "version_minor": 0
      },
      "text/plain": [
       "interactive(children=(Dropdown(description='ticker', options=('DM', 'HYZN', 'EVGDF', 'FB', 'HEPS', 'ZME', 'MAR…"
      ]
     },
     "metadata": {},
     "output_type": "display_data"
    },
    {
     "data": {
      "text/plain": [
       "<function __main__.plot_tick(ticker)>"
      ]
     },
     "execution_count": 14,
     "metadata": {},
     "output_type": "execute_result"
    }
   ],
   "source": [
    "widgets.interact(plot_tick, ticker = stocks.keys())"
   ]
  },
  {
   "cell_type": "code",
   "execution_count": 15,
   "metadata": {},
   "outputs": [],
   "source": [
    "data.to_excel(\"Scraping.xlsx\",index = False)"
   ]
  }
 ],
 "metadata": {
  "kernelspec": {
   "display_name": "Python 3",
   "language": "python",
   "name": "python3"
  },
  "language_info": {
   "codemirror_mode": {
    "name": "ipython",
    "version": 3
   },
   "file_extension": ".py",
   "mimetype": "text/x-python",
   "name": "python",
   "nbconvert_exporter": "python",
   "pygments_lexer": "ipython3",
   "version": "3.8.5"
  }
 },
 "nbformat": 4,
 "nbformat_minor": 4
}
