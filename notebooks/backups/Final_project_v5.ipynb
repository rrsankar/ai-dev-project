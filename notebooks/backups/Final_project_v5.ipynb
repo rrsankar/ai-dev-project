{
 "cells": [
  {
   "cell_type": "code",
   "execution_count": null,
   "metadata": {},
   "outputs": [],
   "source": [
    "# BeautifulSoup Documentation - https://beautiful-soup-4.readthedocs.io/en/latest/\n",
    "# BeautifulSoup @ pypi.org - https://pypi.org/project/beautifulsoup4/"
   ]
  },
  {
   "cell_type": "code",
   "execution_count": null,
   "metadata": {},
   "outputs": [],
   "source": [
    "# !pip install datefinder\n",
    "# !pip install yfinance"
   ]
  },
  {
   "cell_type": "code",
   "execution_count": 70,
   "metadata": {},
   "outputs": [],
   "source": [
    "import re\n",
    "from datetime import datetime, timedelta\n",
    "import pandas as pd\n",
    "import numpy as np\n",
    "import tensorflow as tf\n",
    "from tqdm import tqdm\n",
    "import requests\n",
    "from sklearn import preprocessing\n",
    "import datefinder\n",
    "from bs4 import BeautifulSoup\n",
    "from collections import deque\n",
    "import yfinance as yf\n",
    "import matplotlib.pyplot as plt\n",
    "from matplotlib.pyplot import figure\n",
    "import plotly.graph_objects as go\n",
    "import ipywidgets as widgets\n",
    "import warnings\n",
    "\n",
    "warnings.filterwarnings(\"ignore\")\n",
    "model = tf.keras.models.load_model(\"LSTM_stock\")"
   ]
  },
  {
   "cell_type": "code",
   "execution_count": 2,
   "metadata": {},
   "outputs": [],
   "source": [
    "# Initialize constants.\n",
    "\n",
    "ARTICLES_TO_EXTRACT_PER_DAY = 4"
   ]
  },
  {
   "cell_type": "code",
   "execution_count": 3,
   "metadata": {},
   "outputs": [
    {
     "name": "stdout",
     "output_type": "stream",
     "text": [
      "\n",
      "Parsing data from 11/18/2021 03:00 to 12/01/2021 03:00\n",
      "\n",
      "https://www.prnewswire.com/news-releases/news-releases-list/?page=1&pagesize=4&month=11&day=18&year=2021&hour=03\n",
      "https://www.prnewswire.com/news-releases/news-releases-list/?page=1&pagesize=4&month=11&day=19&year=2021&hour=03\n",
      "https://www.prnewswire.com/news-releases/news-releases-list/?page=1&pagesize=4&month=11&day=20&year=2021&hour=03\n",
      "https://www.prnewswire.com/news-releases/news-releases-list/?page=1&pagesize=4&month=11&day=21&year=2021&hour=03\n",
      "https://www.prnewswire.com/news-releases/news-releases-list/?page=1&pagesize=4&month=11&day=22&year=2021&hour=03\n",
      "https://www.prnewswire.com/news-releases/news-releases-list/?page=1&pagesize=4&month=11&day=23&year=2021&hour=03\n",
      "https://www.prnewswire.com/news-releases/news-releases-list/?page=1&pagesize=4&month=11&day=24&year=2021&hour=03\n",
      "https://www.prnewswire.com/news-releases/news-releases-list/?page=1&pagesize=4&month=11&day=25&year=2021&hour=03\n",
      "https://www.prnewswire.com/news-releases/news-releases-list/?page=1&pagesize=4&month=11&day=26&year=2021&hour=03\n",
      "https://www.prnewswire.com/news-releases/news-releases-list/?page=1&pagesize=4&month=11&day=27&year=2021&hour=03\n",
      "https://www.prnewswire.com/news-releases/news-releases-list/?page=1&pagesize=4&month=11&day=28&year=2021&hour=03\n",
      "https://www.prnewswire.com/news-releases/news-releases-list/?page=1&pagesize=4&month=11&day=29&year=2021&hour=03\n",
      "https://www.prnewswire.com/news-releases/news-releases-list/?page=1&pagesize=4&month=11&day=30&year=2021&hour=03\n",
      "https://www.prnewswire.com/news-releases/news-releases-list/?page=1&pagesize=4&month=12&day=01&year=2021&hour=03\n"
     ]
    }
   ],
   "source": [
    "# Get start and end date to fetch articles.\n",
    "current_time = datetime.now()\n",
    "time_two_weeks_back = current_time - timedelta(days=13)\n",
    "print(f\"\\nParsing data from \" + time_two_weeks_back.strftime(\"%m/%d/%Y %H:00\") + \" to \" + current_time.strftime(\"%m/%d/%Y %H:00\") + \"\\n\")\n",
    "\n",
    "# Generate a list of links that fetches news release of past two weeks.\n",
    "filtered_link_list = []\n",
    "for single_date in pd.date_range(time_two_weeks_back, current_time):\n",
    "    filtered_link_list.append(f\"https://www.prnewswire.com/news-releases/news-releases-list/\"\n",
    "                              f\"?page=1&pagesize={ARTICLES_TO_EXTRACT_PER_DAY}&month={single_date.month:02}\"\n",
    "                              f\"&day={single_date.day:02}&year={single_date.year:04}&hour={single_date.hour:02}\")\n",
    "\n",
    "for itr in filtered_link_list:\n",
    "    print(itr)"
   ]
  },
  {
   "cell_type": "code",
   "execution_count": 4,
   "metadata": {},
   "outputs": [
    {
     "name": "stderr",
     "output_type": "stream",
     "text": [
      "  0%|          | 0/14 [00:00<?, ?it/s]"
     ]
    },
    {
     "name": "stdout",
     "output_type": "stream",
     "text": [
      "Fetching links to articles of past two weeks..\n",
      "\n"
     ]
    },
    {
     "name": "stderr",
     "output_type": "stream",
     "text": [
      "100%|██████████| 14/14 [00:19<00:00,  1.40s/it]"
     ]
    },
    {
     "name": "stdout",
     "output_type": "stream",
     "text": [
      "\n",
      "Fetching complete.\n",
      "\n",
      "\n",
      "https://www.prnewswire.com/news-releases/doosan-robotics-remporte-le-prix-de-l-innovation-ces-r-2022-pour-son-systeme-de-robot-camera-882142369.html\n",
      "https://www.prnewswire.com/news-releases/common-criteria-eal4-zertifizierung-fur-sdot-security-gateway-cross-domain-solution-810383109.html\n",
      "https://www.prnewswire.com/news-releases/the9-limited-announces-two-time-nba-mvp-giannis-antetokounmpo-and-three-brothers-as-global-ambassadors-and-shareholders-of-new-nftstar-platform-301427701.html\n",
      "https://www.prnewswire.com/news-releases/neolith-materializes-its-commitment-to-the-us-market-by-multiplying-its-openings-301427378.html\n",
      "https://www.prnewswire.com/news-releases/savory--partners-st-kitts--nevis-offshore-banking-and-trusts-your-optimal-asset-protection-tools-301426728.html\n",
      "https://www.prnewswire.com/news-releases/squaretalk-is-now-accepting-crypto-as-a-form-of-payment-301428285.html\n",
      "https://www.prnewswire.com/news-releases/modulaire-group-strengthens-spanish-business-with-acquisition-of-balat-301428713.html\n",
      "https://www.prnewswire.com/news-releases/commercetools-acquires-the-leading-composable-frontend-platform-frontastic-301428510.html\n",
      "https://www.prnewswire.com/news-releases/shareholder-investigation-halper-sadeh-llp-investigates-ftsi-rrd-mnr-levl-shareholders-are-encouraged-to-contact-the-firm-301429493.html\n",
      "https://www.prnewswire.com/news-releases/aspentech-investor-alert-by-the-former-attorney-general-of-louisiana-kahn-swick--foti-llc-investigates-adequacy-of-price-and-process-in-proposed-sale-of-aspen-technology-inc---azpn-301429492.html\n",
      "https://www.prnewswire.com/news-releases/fts-international-investor-alert-by-the-former-attorney-general-of-louisiana-kahn-swick--foti-llc-investigates-adequacy-of-price-and-process-in-proposed-sale-of-fts-international-inc---ftsi-301429495.html\n",
      "https://www.prnewswire.com/news-releases/successful-2020-tang-prize-award-ceremony-highlights-laureates-achievements-and-influence-301419171.html\n",
      "https://www.prnewswire.com/news-releases/hisense-celebre-la-coupe-du-monde-de-la-fifa-2022-tm-a-un-an-de-l-evenement-avec-la-campagne-too-big-to-miss-trop-important-pour-etre-manque--889356117.html\n",
      "https://www.prnewswire.com/news-releases/hisense-feiert-die-fifa-fussball-weltmeisterschaft-2022-tm-ein-jahr-vor-dem-start-mit-einer-too-big-to-miss-kampagne-827918484.html\n",
      "https://www.prnewswire.com/news-releases/hisense-celebra-que-falta-un-ano-para-la-fifa-world-cup-2022-tm-con-una-campana-854850393.html\n",
      "https://www.prnewswire.com/news-releases/hisense-celebra-la-cuenta-regresiva-de-un-ano-para-la-copa-mundial-de-la-fifa-2022-tm-con-la-campana-too-big-to-miss--895260004.html\n",
      "https://www.prnewswire.com/news-releases/construction-management-software-market-size-to-grow-by-usd-630-51-mn--market-research-insights-highlight-the-increasing-requirements-for-large-scale-project-management-as-key-driver--technavio-301428346.html\n",
      "https://www.prnewswire.com/news-releases/sports-fishing-equipment-market-size-to-grow-by-usd-2-09-bn--market-research-insights-highlight-the-rising-demand-for-customized-learning-as-key-driver--technavio-301428354.html\n",
      "https://www.prnewswire.com/news-releases/one-of-the-worlds-largest-investment-management-firms-signs-major-contract-with-darktrace-301429602.html\n",
      "https://www.prnewswire.com/news-releases/the9-limited-announced-its-nftstar-signed-exclusive-license-agreement-with-soccer-star-neymar-jr-for-nft-collections-development-and-sales-301429697.html\n",
      "https://www.prnewswire.com/news-releases/le-leader-de-la-purification-de-l-air-molekule-se-lance-en-europe-pour-offrir-un-air-interieur-pur-a-tous-partout-857113864.html\n",
      "https://www.prnewswire.com/news-releases/empresa-emergente-de-ia-premiada-en-todo-el-mundo-recibe-1-4-millones-de-dolares-en-financiacion-inicial-805457716.html\n",
      "https://www.prnewswire.com/news-releases/molekule-se-lanza-en-europa-para-ofrecer-aire-limpio-en-interiores-a-todo-el-mundo-830345806.html\n",
      "https://www.prnewswire.com/news-releases/recurso-para-periodistas-de-todo-el-mundo-sobre-las-vacunas-contra-la-covid-19-815437934.html\n",
      "https://www.prnewswire.com/news-releases/kavalan-gana-el-worldwide-whiskey-producer-trophy-en-los-premios-iwsc-890945242.html\n",
      "https://www.prnewswire.com/news-releases/kavalan-ganha-o-trofeu-mundial-dos-produtores-de-uisque-da-iwsc-832843095.html\n",
      "https://www.prnewswire.com/news-releases/nord-anglia-education-launches-8th-international-teacher-recruitment-fair-301430982.html\n",
      "https://www.prnewswire.com/news-releases/robomarkets-adds-fractional-shares-to-r-stockstrader-along-with-over-500-new-instruments-301430960.html\n",
      "https://www.prnewswire.com/news-releases/usd-324-15-million-growth-in-sand-blasting-machine-market--evolving-opportunities-with-airblast-bv--burwell-technologies--17000-technavio-reports-301431496.html\n",
      "https://www.prnewswire.com/news-releases/why-its-a-good-idea-to-jump-on-carguards-protection-plan-right-now-301431980.html\n",
      "https://www.prnewswire.com/news-releases/essential-pharma-completes-two-transactions-with-rosemont-pharmaceuticals-bringing-into-the-portfolio-several-attractive-niche-products-and-streamlining-the-portfolio-to-pursue-strategic-growth-ambition-301431779.html\n",
      "https://www.prnewswire.com/news-releases/priothera-appoints-elisabeth-kueenburg-md-as-chief-medical-officer-301432026.html\n",
      "https://www.prnewswire.com/news-releases/jon-venverloh-named-coo-of-hypernet-labs-301431760.html\n",
      "https://www.prnewswire.com/news-releases/sands-china-ltd-recognised-in-dow-jones-sustainability-index-301432300.html\n",
      "https://www.prnewswire.com/news-releases/the-best-black-friday-deals-to-power-homes---bluetti-announces-seasonal-offers-301429496.html\n",
      "https://www.prnewswire.com/news-releases/rlx-technology-inc-to-report-third-quarter-2021-financial-results-on-december-3-2021-301432044.html\n",
      "https://www.prnewswire.com/news-releases/tang-prize-laureates-reflect-on-the-breakthroughs-made-possible-by-cytokine-research-301432289.html\n",
      "https://www.prnewswire.com/news-releases/trails-carolina-program-helping-teens-with-anxiety-301431982.html\n",
      "https://www.prnewswire.com/news-releases/polyethylene-wax-market-to-grow-at-a-cagr-of-2-97--industry-analysis-market-trends-market-growth-opportunities--forecast-2025--17000-technavio-reports-301432061.html\n",
      "https://www.prnewswire.com/news-releases/unmanned-underwater-vehicles-market-size-to-grow-by-usd-1-91-bn--growing-demand-for-stealth-platform-to-drive-growth--technavio-301432060.html\n",
      "https://www.prnewswire.com/news-releases/lala-calls-shareholders-to-extraordinary-shareholders-meeting-to-vote-on-request-to-cancel-registration-and-listing-of-outstanding-shares-301432575.html\n",
      "https://www.prnewswire.com/news-releases/deadline-playtika-holding-corp-investors-with-substantial-losses-have-opportunity-to-lead-class-action-lawsuit--pltk-301431881.html\n",
      "https://www.prnewswire.com/news-releases/rosen-trusted-and-top-ranked-investor-counsel-encourages-american-century-value-fund-investors-with-losses-to-secure-counsel-before-important-deadline-in-securities-class-action--twvlx-avlix-avuyx-twadx-aclcx-avurx-avugx-301431919.html\n",
      "https://www.prnewswire.com/news-releases/rosen-trusted-investor-counsel-encourages-zhangmen-education-inc-investors-with-losses-to-secure-counsel-before-important-deadline-in-securities-class-action--zme-301431936.html\n",
      "https://www.prnewswire.com/news-releases/thought-industries-leaders-ranked-among-top-learning-system-executives-for-2021-by-the-craig-weiss-group-301431712.html\n",
      "https://www.prnewswire.com/news-releases/rebounding-construction-risks-rising-toll-of-lost-time-and-cash-301432582.html\n",
      "https://www.prnewswire.com/news-releases/access-partnership-acquiert-alphabeta-pour-etendre-ses-capacites-en-matiere-de-politique-asiatique-et-mondiale-836270667.html\n",
      "https://www.prnewswire.com/news-releases/access-partnership-adquiere-alphabeta-869337108.html\n",
      "https://www.prnewswire.com/news-releases/hikvision-reveals-affordable-security-tech-with-six-impressive-safety-upgrades-for-small-businesses-301433524.html\n",
      "https://www.prnewswire.com/news-releases/face-verification-12-from-neurotechnology-extends-facial-authentication-capabilities-to-web-based-applications-301433164.html\n",
      "https://www.prnewswire.com/news-releases/jti-becomes-one-of-the-first-multinational-companies-to-receive-eys-new-global-equality-standard-301432894.html\n",
      "https://www.prnewswire.com/news-releases/kevin-lupowitz-joins-extraordinary-re-as-investor-and-advisor-301433161.html\n",
      "https://www.prnewswire.com/news-releases/now-available-more-sustainable-it-products-301433191.html\n",
      "https://www.prnewswire.com/news-releases/nextego-mobile-electric-vehicle-manufacturer-announces-the-appointment-of-new-ceo-301434762.html\n",
      "https://www.prnewswire.com/news-releases/jobandtalent-secures-500m-in-series-e-fundraising-round-to-accelerate-expansion-301434496.html\n",
      "https://www.prnewswire.com/news-releases/adcendo-further-strengthens-management-team-and-scientific-advisory-board-with-appointment-of-international-adc-leaders-301434239.html\n",
      "\n",
      "\n",
      "Number of articles: 56\n"
     ]
    },
    {
     "name": "stderr",
     "output_type": "stream",
     "text": [
      "\n"
     ]
    }
   ],
   "source": [
    "# Generate a list of required blog links.\n",
    "\n",
    "print(\"Fetching links to articles of past two weeks..\\n\")\n",
    "blogs_link_list = []\n",
    "for i in tqdm(filtered_link_list):\n",
    "    response = requests.get(i)\n",
    "    home_page = BeautifulSoup(response.text, 'html.parser')\n",
    "    news_release_list = list(home_page.find_all(\"a\", attrs={'class': 'newsreleaseconsolidatelink display-outline'}))\n",
    "    # Generate links to each articles.\n",
    "    blogs_link_list.extend([f\"https://www.prnewswire.com{i.attrs.get('href')}\" for i in news_release_list if i.attrs.get(\"href\",\"\")])\n",
    "print(\"\\nFetching complete.\\n\\n\")\n",
    "\n",
    "for itr in blogs_link_list:\n",
    "    print(itr)\n",
    "\n",
    "print(f\"\\n\\nNumber of articles: {len(blogs_link_list)}\")"
   ]
  },
  {
   "cell_type": "code",
   "execution_count": 5,
   "metadata": {},
   "outputs": [
    {
     "name": "stdout",
     "output_type": "stream",
     "text": [
      "Extracting data from scrapped content..\n",
      "\n",
      "\n"
     ]
    }
   ],
   "source": [
    "# Loop through article links, parse article body, date and add to dataframe.\n",
    "\n",
    "print(\"Extracting data from scrapped content..\\n\\n\")\n",
    "\n",
    "data = pd.DataFrame(columns=[\"url\", \"article_date\", \"article_content\"])\n",
    "\n",
    "for i in blogs_link_list:\n",
    "    blog = requests.get(i)\n",
    "    blog_soup = BeautifulSoup(blog.text, 'html.parser')\n",
    "    blog_body = blog_soup.find(\"section\", attrs={'class': 'release-body container'})\n",
    "    if not blog_body:\n",
    "        blog_body = blog_soup.find(\"section\", attrs={'class': 'release-body container '})\n",
    "    blog_body = blog_body.text if blog_body else \"\"\n",
    "\n",
    "    # Fetch article date.\n",
    "    blog_date = blog_soup.find(\"meta\", attrs={'name': 'date'}).attrs.get(\"content\")\n",
    "    matches = list(datefinder.find_dates(blog_date))\n",
    "    blog_date = str(matches[0]) if matches else \"\"\n",
    "\n",
    "    # Append to dataframe.\n",
    "    data = data.append({\n",
    "        \"url\": i,\n",
    "        \"article_date\": blog_date,\n",
    "        \"article_content\": blog_body},\n",
    "        ignore_index=True)\n",
    "\n"
   ]
  },
  {
   "cell_type": "code",
   "execution_count": 6,
   "metadata": {},
   "outputs": [
    {
     "data": {
      "text/html": [
       "<div>\n",
       "<style scoped>\n",
       "    .dataframe tbody tr th:only-of-type {\n",
       "        vertical-align: middle;\n",
       "    }\n",
       "\n",
       "    .dataframe tbody tr th {\n",
       "        vertical-align: top;\n",
       "    }\n",
       "\n",
       "    .dataframe thead th {\n",
       "        text-align: right;\n",
       "    }\n",
       "</style>\n",
       "<table border=\"1\" class=\"dataframe\">\n",
       "  <thead>\n",
       "    <tr style=\"text-align: right;\">\n",
       "      <th></th>\n",
       "      <th>url</th>\n",
       "      <th>article_date</th>\n",
       "      <th>article_content</th>\n",
       "    </tr>\n",
       "  </thead>\n",
       "  <tbody>\n",
       "    <tr>\n",
       "      <th>0</th>\n",
       "      <td>https://www.prnewswire.com/news-releases/doosa...</td>\n",
       "      <td>2021-11-18 03:00:00-05:00</td>\n",
       "      <td>\\n\\n\\nSÉOUL, Corée du Sud et LAS VEGAS, 18 nov...</td>\n",
       "    </tr>\n",
       "    <tr>\n",
       "      <th>1</th>\n",
       "      <td>https://www.prnewswire.com/news-releases/commo...</td>\n",
       "      <td>2021-11-18 03:00:00-05:00</td>\n",
       "      <td>\\n\\n\\nKÖLN, 18. November 2021 /PRNewswire/ -- ...</td>\n",
       "    </tr>\n",
       "    <tr>\n",
       "      <th>2</th>\n",
       "      <td>https://www.prnewswire.com/news-releases/the9-...</td>\n",
       "      <td>2021-11-18 03:00:00-05:00</td>\n",
       "      <td>\\n\\n\\nSINGAPORE, Nov. 18, 2021 /PRNewswire/ --...</td>\n",
       "    </tr>\n",
       "    <tr>\n",
       "      <th>3</th>\n",
       "      <td>https://www.prnewswire.com/news-releases/neoli...</td>\n",
       "      <td>2021-11-18 03:00:00-05:00</td>\n",
       "      <td>\\n\\n\\nCASTELLÓN, Spain, Nov. 18, 2021 /PRNewsw...</td>\n",
       "    </tr>\n",
       "    <tr>\n",
       "      <th>4</th>\n",
       "      <td>https://www.prnewswire.com/news-releases/savor...</td>\n",
       "      <td>2021-11-19 03:00:00-05:00</td>\n",
       "      <td>\\n\\n\\nDUBAI, UAE, Nov. 19, 2021 /PRNewswire/ -...</td>\n",
       "    </tr>\n",
       "  </tbody>\n",
       "</table>\n",
       "</div>"
      ],
      "text/plain": [
       "                                                 url  \\\n",
       "0  https://www.prnewswire.com/news-releases/doosa...   \n",
       "1  https://www.prnewswire.com/news-releases/commo...   \n",
       "2  https://www.prnewswire.com/news-releases/the9-...   \n",
       "3  https://www.prnewswire.com/news-releases/neoli...   \n",
       "4  https://www.prnewswire.com/news-releases/savor...   \n",
       "\n",
       "                article_date  \\\n",
       "0  2021-11-18 03:00:00-05:00   \n",
       "1  2021-11-18 03:00:00-05:00   \n",
       "2  2021-11-18 03:00:00-05:00   \n",
       "3  2021-11-18 03:00:00-05:00   \n",
       "4  2021-11-19 03:00:00-05:00   \n",
       "\n",
       "                                     article_content  \n",
       "0  \\n\\n\\nSÉOUL, Corée du Sud et LAS VEGAS, 18 nov...  \n",
       "1  \\n\\n\\nKÖLN, 18. November 2021 /PRNewswire/ -- ...  \n",
       "2  \\n\\n\\nSINGAPORE, Nov. 18, 2021 /PRNewswire/ --...  \n",
       "3  \\n\\n\\nCASTELLÓN, Spain, Nov. 18, 2021 /PRNewsw...  \n",
       "4  \\n\\n\\nDUBAI, UAE, Nov. 19, 2021 /PRNewswire/ -...  "
      ]
     },
     "execution_count": 6,
     "metadata": {},
     "output_type": "execute_result"
    }
   ],
   "source": [
    "data.head()"
   ]
  },
  {
   "cell_type": "code",
   "execution_count": 7,
   "metadata": {},
   "outputs": [],
   "source": [
    "#Dropping duplicates if any\n",
    "data.drop_duplicates(subset = \"article_content\",inplace = True,ignore_index = True)"
   ]
  },
  {
   "cell_type": "code",
   "execution_count": 8,
   "metadata": {},
   "outputs": [],
   "source": [
    "tickers = set()\n",
    "for i in range(len(data)):\n",
    "    temp = re.findall(r':\\s[A-Z]{1,5}[)]',data.iloc[i][\"article_content\"])\n",
    "    for tick in temp: \n",
    "        tickers.add(tick[-(len(tick) - 2):-1])"
   ]
  },
  {
   "cell_type": "code",
   "execution_count": 9,
   "metadata": {},
   "outputs": [
    {
     "name": "stdout",
     "output_type": "stream",
     "text": [
      "- LALAB: No data found, symbol may be delisted\n"
     ]
    }
   ],
   "source": [
    "stocks = {}\n",
    "for tick in tickers:\n",
    "    stocks[tick] = yf.Ticker(tick).history(period = \"YTD\")"
   ]
  },
  {
   "cell_type": "code",
   "execution_count": 41,
   "metadata": {},
   "outputs": [
    {
     "data": {
      "text/plain": [
       "{'FTSI':                  Open       High        Low      Close  Volume  Dividends  \\\n",
       " Date                                                                        \n",
       " 2021-01-04  19.879999  20.000000  18.620001  18.700001  138900          0   \n",
       " 2021-01-05  18.629999  19.520000  18.500000  18.559999  251700          0   \n",
       " 2021-01-06  18.830000  19.639999  18.730000  18.900000  328400          0   \n",
       " 2021-01-07  18.850000  19.516001  18.440001  18.440001  172100          0   \n",
       " 2021-01-08  18.420000  19.530001  17.780001  19.270000  105600          0   \n",
       " ...               ...        ...        ...        ...     ...        ...   \n",
       " 2021-11-23  26.459999  26.600000  26.160000  26.500000  125700          0   \n",
       " 2021-11-24  26.520000  26.799999  26.500000  26.620001   47200          0   \n",
       " 2021-11-26  26.299999  26.750000  26.260000  26.520000  117600          0   \n",
       " 2021-11-29  26.520000  26.570000  26.389999  26.500000  187500          0   \n",
       " 2021-11-30  26.379999  26.520000  26.209999  26.340000  112500          0   \n",
       " \n",
       "             Stock Splits  \n",
       " Date                      \n",
       " 2021-01-04             0  \n",
       " 2021-01-05             0  \n",
       " 2021-01-06             0  \n",
       " 2021-01-07             0  \n",
       " 2021-01-08             0  \n",
       " ...                  ...  \n",
       " 2021-11-23             0  \n",
       " 2021-11-24             0  \n",
       " 2021-11-26             0  \n",
       " 2021-11-29             0  \n",
       " 2021-11-30             0  \n",
       " \n",
       " [230 rows x 7 columns],\n",
       " 'EMR':                  Open       High        Low      Close   Volume  Dividends  \\\n",
       " Date                                                                         \n",
       " 2021-01-04  78.863679  79.235582  76.103744  76.348419  2227700        0.0   \n",
       " 2021-01-05  76.514796  78.051355  76.348418  77.669662  2687600        0.0   \n",
       " 2021-01-06  78.550495  81.349578  78.501557  80.282791  3791000        0.0   \n",
       " 2021-01-07  80.928742  81.398514  79.666218  80.321945  2435600        0.0   \n",
       " 2021-01-08  80.811296  80.909164  78.883255  80.077271  2156900        0.0   \n",
       " ...               ...        ...        ...        ...      ...        ...   \n",
       " 2021-11-23  94.480003  95.050003  93.980003  94.470001  3099500        0.0   \n",
       " 2021-11-24  93.980003  95.150002  93.980003  94.230003  2738400        0.0   \n",
       " 2021-11-26  91.730003  91.760002  89.900002  90.309998  2767500        0.0   \n",
       " 2021-11-29  91.309998  92.190002  90.230003  90.860001  3420200        0.0   \n",
       " 2021-11-30  90.000000  90.720001  87.610001  87.839996  5950100        0.0   \n",
       " \n",
       "             Stock Splits  \n",
       " Date                      \n",
       " 2021-01-04             0  \n",
       " 2021-01-05             0  \n",
       " 2021-01-06             0  \n",
       " 2021-01-07             0  \n",
       " 2021-01-08             0  \n",
       " ...                  ...  \n",
       " 2021-11-23             0  \n",
       " 2021-11-24             0  \n",
       " 2021-11-26             0  \n",
       " 2021-11-29             0  \n",
       " 2021-11-30             0  \n",
       " \n",
       " [230 rows x 7 columns],\n",
       " 'RLX':                  Open       High        Low      Close    Volume  Dividends  \\\n",
       " Date                                                                          \n",
       " 2021-01-22  22.340000  30.969999  22.299999  29.510000  95762100          0   \n",
       " 2021-01-25  34.230000  35.000000  26.200001  28.629999  52581000          0   \n",
       " 2021-01-26  28.530001  28.530001  24.000000  24.040001  27164000          0   \n",
       " 2021-01-27  23.600000  25.500000  22.000000  23.160000  20218700          0   \n",
       " 2021-01-28  24.129000  25.900000  22.537001  24.270000  12193000          0   \n",
       " ...               ...        ...        ...        ...       ...        ...   \n",
       " 2021-11-23   5.530000   5.900000   4.800000   4.970000  63617800          0   \n",
       " 2021-11-24   5.010000   5.790000   5.010000   5.410000  37163500          0   \n",
       " 2021-11-26   5.290000   5.810000   4.960000   5.510000  44160600          0   \n",
       " 2021-11-29   5.630000   5.650000   5.059000   5.070000  23690500          0   \n",
       " 2021-11-30   4.800000   4.810000   4.000000   4.110000  37836900          0   \n",
       " \n",
       "             Stock Splits  \n",
       " Date                      \n",
       " 2021-01-22             0  \n",
       " 2021-01-25             0  \n",
       " 2021-01-26             0  \n",
       " 2021-01-27             0  \n",
       " 2021-01-28             0  \n",
       " ...                  ...  \n",
       " 2021-11-23             0  \n",
       " 2021-11-24             0  \n",
       " 2021-11-26             0  \n",
       " 2021-11-29             0  \n",
       " 2021-11-30             0  \n",
       " \n",
       " [217 rows x 7 columns],\n",
       " 'NCTY':                  Open       High    Low  Close    Volume  Dividends  \\\n",
       " Date                                                                  \n",
       " 2021-01-04   5.710000   8.100000   5.25   6.62  55651400          0   \n",
       " 2021-01-05   6.330000  10.100000   5.96   8.56  26654900          0   \n",
       " 2021-01-06   9.660000  15.860000   9.56  14.89  49041200          0   \n",
       " 2021-01-07  21.700001  27.820000  16.10  17.10  34589400          0   \n",
       " 2021-01-08  17.139999  17.139999  12.05  12.89   7579900          0   \n",
       " ...               ...        ...    ...    ...       ...        ...   \n",
       " 2021-11-23  10.840000  11.030000  10.54  10.79    430100          0   \n",
       " 2021-11-24  10.710000  10.980000  10.55  10.65    429100          0   \n",
       " 2021-11-26  10.040000  10.380000   9.93  10.30    432400          0   \n",
       " 2021-11-29  10.480000  10.680000  10.20  10.26    302200          0   \n",
       " 2021-11-30  10.280000  10.480000   9.54   9.99    516300          0   \n",
       " \n",
       "             Stock Splits  \n",
       " Date                      \n",
       " 2021-01-04             0  \n",
       " 2021-01-05             0  \n",
       " 2021-01-06             0  \n",
       " 2021-01-07             0  \n",
       " 2021-01-08             0  \n",
       " ...                  ...  \n",
       " 2021-11-23             0  \n",
       " 2021-11-24             0  \n",
       " 2021-11-26             0  \n",
       " 2021-11-29             0  \n",
       " 2021-11-30             0  \n",
       " \n",
       " [230 rows x 7 columns],\n",
       " 'ZME':                  Open    High    Low  Close   Volume  Dividends  Stock Splits\n",
       " Date                                                                         \n",
       " 2021-06-08  16.129999  20.520  14.50  16.99  2080500          0             0\n",
       " 2021-06-09  15.630000  15.630  14.12  14.60   532500          0             0\n",
       " 2021-06-10  15.040000  15.790  13.32  13.56   367700          0             0\n",
       " 2021-06-11  13.760000  14.910  13.11  13.43   513200          0             0\n",
       " 2021-06-14  13.300000  15.900  13.15  14.01   827600          0             0\n",
       " ...               ...     ...    ...    ...      ...        ...           ...\n",
       " 2021-11-23   1.400000   1.430   1.19   1.27   405100          0             0\n",
       " 2021-11-24   1.230000   1.328   1.21   1.32    78600          0             0\n",
       " 2021-11-26   1.310000   1.390   1.24   1.39    96400          0             0\n",
       " 2021-11-29   1.330000   1.358   1.27   1.34    49300          0             0\n",
       " 2021-11-30   1.304000   1.350   1.20   1.25   130700          0             0\n",
       " \n",
       " [123 rows x 7 columns],\n",
       " 'LEVL':                  Open       High        Low      Close  Volume  Dividends  \\\n",
       " Date                                                                        \n",
       " 2021-01-04  20.172706  20.172706  19.775215  19.874588    5800        0.0   \n",
       " 2021-01-05  19.685776  20.669568  19.427406  19.427406    7400        0.0   \n",
       " 2021-01-06  20.033583  20.768942  19.834836  20.262140   12100        0.0   \n",
       " 2021-01-07  20.282015  20.858377  20.142893  20.858377   55700        0.0   \n",
       " 2021-01-08  20.565226  20.649694  20.013706  20.649694    4300        0.0   \n",
       " ...               ...        ...        ...        ...     ...        ...   \n",
       " 2021-11-23  40.514999  40.700001  40.209999  40.480000   15800        0.0   \n",
       " 2021-11-24  40.352001  40.430000  40.000000  40.189999   11000        0.0   \n",
       " 2021-11-26  39.599998  39.654999  38.049999  38.689999   10700        0.0   \n",
       " 2021-11-29  39.389999  39.389999  38.259998  38.580002    8700        0.0   \n",
       " 2021-11-30  38.480000  38.480000  37.880001  37.889999   54700        0.0   \n",
       " \n",
       "             Stock Splits  \n",
       " Date                      \n",
       " 2021-01-04             0  \n",
       " 2021-01-05             0  \n",
       " 2021-01-06             0  \n",
       " 2021-01-07             0  \n",
       " 2021-01-08             0  \n",
       " ...                  ...  \n",
       " 2021-11-23             0  \n",
       " 2021-11-24             0  \n",
       " 2021-11-26             0  \n",
       " 2021-11-29             0  \n",
       " 2021-11-30             0  \n",
       " \n",
       " [230 rows x 7 columns],\n",
       " 'AZPN':                   Open        High         Low       Close  Volume  Dividends  \\\n",
       " Date                                                                            \n",
       " 2021-01-04  130.300003  132.399994  129.699997  130.699997  396000          0   \n",
       " 2021-01-05  131.199997  132.509995  130.059998  131.250000  265300          0   \n",
       " 2021-01-06  130.600006  139.179993  128.520004  137.729996  530900          0   \n",
       " 2021-01-07  138.089996  142.279999  133.149994  141.440002  488000          0   \n",
       " 2021-01-08  142.710007  145.410004  140.360001  142.589996  315200          0   \n",
       " ...                ...         ...         ...         ...     ...        ...   \n",
       " 2021-11-23  154.110001  156.089996  152.830002  155.880005  265500          0   \n",
       " 2021-11-24  154.820007  155.699997  148.669998  149.410004  259800          0   \n",
       " 2021-11-26  148.210007  148.289993  144.750000  145.160004  293200          0   \n",
       " 2021-11-29  146.250000  146.440002  143.199997  146.110001  280100          0   \n",
       " 2021-11-30  145.789993  147.839996  144.100006  145.029999  498400          0   \n",
       " \n",
       "             Stock Splits  \n",
       " Date                      \n",
       " 2021-01-04             0  \n",
       " 2021-01-05             0  \n",
       " 2021-01-06             0  \n",
       " 2021-01-07             0  \n",
       " 2021-01-08             0  \n",
       " ...                  ...  \n",
       " 2021-11-23             0  \n",
       " 2021-11-24             0  \n",
       " 2021-11-26             0  \n",
       " 2021-11-29             0  \n",
       " 2021-11-30             0  \n",
       " \n",
       " [230 rows x 7 columns],\n",
       " 'LALAB': Empty DataFrame\n",
       " Columns: [Open, High, Low, Close, Adj Close, Volume]\n",
       " Index: [],\n",
       " 'PLTK':                  Open       High        Low      Close   Volume  Dividends  \\\n",
       " Date                                                                         \n",
       " 2021-01-19  33.889999  33.970001  32.000000  32.400002  8899200          0   \n",
       " 2021-01-20  33.040001  33.200001  31.600000  32.000000  3792600          0   \n",
       " 2021-01-21  32.269001  32.269001  30.049999  31.010000  3894800          0   \n",
       " 2021-01-22  30.059999  31.110001  30.000000  30.240000  3625200          0   \n",
       " 2021-01-25  30.900000  31.385000  29.510000  30.290001  2914200          0   \n",
       " ...               ...        ...        ...        ...      ...        ...   \n",
       " 2021-11-23  18.500000  19.150000  18.000000  18.180000  1590900          0   \n",
       " 2021-11-24  18.180000  18.469999  17.730000  18.389999  1028200          0   \n",
       " 2021-11-26  18.120001  18.500000  18.020000  18.180000   895700          0   \n",
       " 2021-11-29  18.150000  18.549999  17.750000  17.980000  1215500          0   \n",
       " 2021-11-30  17.879999  18.000000  16.920000  17.200001  1718200          0   \n",
       " \n",
       "             Stock Splits  \n",
       " Date                      \n",
       " 2021-01-19             0  \n",
       " 2021-01-20             0  \n",
       " 2021-01-21             0  \n",
       " 2021-01-22             0  \n",
       " 2021-01-25             0  \n",
       " ...                  ...  \n",
       " 2021-11-23             0  \n",
       " 2021-11-24             0  \n",
       " 2021-11-26             0  \n",
       " 2021-11-29             0  \n",
       " 2021-11-30             0  \n",
       " \n",
       " [220 rows x 7 columns],\n",
       " 'MNR':                  Open       High        Low      Close   Volume  Dividends  \\\n",
       " Date                                                                         \n",
       " 2021-01-04  16.642732  16.710150  16.103383  16.113014   905900        0.0   \n",
       " 2021-01-05  16.132280  16.276747  15.968549  15.997443   528000        0.0   \n",
       " 2021-01-06  16.161173  16.180434  15.727768  15.872235  1234100        0.0   \n",
       " 2021-01-07  15.891500  15.891500  15.544776  15.843345   817000        0.0   \n",
       " 2021-01-08  15.872237  16.122648  15.747032  15.930025   487900        0.0   \n",
       " ...               ...        ...        ...        ...      ...        ...   \n",
       " 2021-11-23  20.850000  20.870001  20.820000  20.840000  1826200        0.0   \n",
       " 2021-11-24  20.820000  20.860001  20.820000  20.840000  1437600        0.0   \n",
       " 2021-11-26  20.820000  20.850000  20.690001  20.760000  1161100        0.0   \n",
       " 2021-11-29  20.790001  20.799999  20.740000  20.770000  2511800        0.0   \n",
       " 2021-11-30  20.750000  20.830000  20.750000  20.770000  1735600        0.0   \n",
       " \n",
       "             Stock Splits  \n",
       " Date                      \n",
       " 2021-01-04             0  \n",
       " 2021-01-05             0  \n",
       " 2021-01-06             0  \n",
       " 2021-01-07             0  \n",
       " 2021-01-08             0  \n",
       " ...                  ...  \n",
       " 2021-11-23             0  \n",
       " 2021-11-24             0  \n",
       " 2021-11-26             0  \n",
       " 2021-11-29             0  \n",
       " 2021-11-30             0  \n",
       " \n",
       " [230 rows x 7 columns],\n",
       " 'RRD':              Open   High    Low  Close   Volume  Dividends  Stock Splits\n",
       " Date                                                                    \n",
       " 2021-01-04   2.25   2.51   2.15   2.49  1896200          0             0\n",
       " 2021-01-05   2.52   2.55   2.41   2.43   719500          0             0\n",
       " 2021-01-06   2.43   2.63   2.43   2.55   789200          0             0\n",
       " 2021-01-07   2.57   2.62   2.47   2.51  1080800          0             0\n",
       " 2021-01-08   2.51   2.51   2.38   2.44   468600          0             0\n",
       " ...           ...    ...    ...    ...      ...        ...           ...\n",
       " 2021-11-23   9.21   9.33   9.20   9.31   722000          0             0\n",
       " 2021-11-24   9.29   9.32   9.23   9.26   628500          0             0\n",
       " 2021-11-26   9.15   9.29   9.07   9.29   682800          0             0\n",
       " 2021-11-29  10.20  10.35  10.15  10.22  3873600          0             0\n",
       " 2021-11-30  10.51  10.62  10.41  10.56  2063100          0             0\n",
       " \n",
       " [230 rows x 7 columns],\n",
       " 'LVS':                  Open       High        Low      Close    Volume  Dividends  \\\n",
       " Date                                                                          \n",
       " 2021-01-04  59.799999  60.290001  57.320000  57.950001  10089600          0   \n",
       " 2021-01-05  57.790001  59.689999  57.720001  59.439999   2879200          0   \n",
       " 2021-01-06  59.049999  60.250000  57.980000  58.540001   4055100          0   \n",
       " 2021-01-07  58.500000  58.930000  57.630001  58.150002   4685700          0   \n",
       " 2021-01-08  58.279999  59.790001  57.009998  57.919998   6859900          0   \n",
       " ...               ...        ...        ...        ...       ...        ...   \n",
       " 2021-11-23  40.990002  41.180000  39.610001  39.810001   6019400          0   \n",
       " 2021-11-24  39.500000  40.560001  39.360001  40.009998   4957400          0   \n",
       " 2021-11-26  37.330002  37.980000  36.610001  37.869999  15314800          0   \n",
       " 2021-11-29  37.959999  38.490002  37.200001  37.259998  10209900          0   \n",
       " 2021-11-30  36.500000  37.130001  35.240002  35.619999  15362400          0   \n",
       " \n",
       "             Stock Splits  \n",
       " Date                      \n",
       " 2021-01-04             0  \n",
       " 2021-01-05             0  \n",
       " 2021-01-06             0  \n",
       " 2021-01-07             0  \n",
       " 2021-01-08             0  \n",
       " ...                  ...  \n",
       " 2021-11-23             0  \n",
       " 2021-11-24             0  \n",
       " 2021-11-26             0  \n",
       " 2021-11-29             0  \n",
       " 2021-11-30             0  \n",
       " \n",
       " [230 rows x 7 columns]}"
      ]
     },
     "execution_count": 41,
     "metadata": {},
     "output_type": "execute_result"
    }
   ],
   "source": [
    "stocks"
   ]
  },
  {
   "cell_type": "code",
   "execution_count": 145,
   "metadata": {},
   "outputs": [],
   "source": [
    "def candlestick(ticker,increasing_line,decreasing_line):\n",
    "        fig = go.Figure(data=[go.Candlestick(x=stocks[ticker].index,\n",
    "                open=stocks[ticker]['Open'],\n",
    "                high=stocks[ticker]['High'],\n",
    "                low=stocks[ticker]['Low'],\n",
    "                close=stocks[ticker]['Close'],increasing_line_color= increasing_line, decreasing_line_color= decreasing_line)])\n",
    "        fig.update_layout(autosize=False,\n",
    "        width=1000,\n",
    "        height=800,)\n",
    "        fig.show()\n",
    "        \n",
    "def plot_tick(ticker):\n",
    "    fig = plt.figure(figsize=(30,21))\n",
    "    ax1 = plt.subplot(2, 2, 1)\n",
    "    plt.xticks(rotation=45)\n",
    "    plt.xticks(fontsize = 20)\n",
    "    plt.yticks(fontsize = 20)\n",
    "    ax2 = plt.subplot(2, 2, 2)\n",
    "    plt.xticks(rotation=45)\n",
    "    plt.xticks(fontsize = 20)\n",
    "    plt.yticks(fontsize = 20)\n",
    "    ax2.yaxis.offsetText.set_fontsize(20)\n",
    "    ax1.plot(stocks[ticker][\"Close\"])\n",
    "    ax2.plot(stocks[ticker][\"Volume\"])\n",
    "i_cl = [\"gold\",\"green\",\"cyan\"]\n",
    "d_cl = [\"gray\",\"red\",\"black\"]\n",
    "\n",
    "\n",
    "def preprocess(ticker):\n",
    "    series = stocks[ticker][\"Close\"]\n",
    "    series = series.pct_change()\n",
    "    series = series.dropna()\n",
    "    seq_data = []\n",
    "    prev_days = deque(maxlen = 100)\n",
    "    for i in series:\n",
    "        prev_days.append(i)\n",
    "        if len(prev_days) == 100:\n",
    "            seq_data.append([np.array(prev_days)])\n",
    "        X =[]\n",
    "        for seq in seq_data:\n",
    "            X.append(seq)\n",
    "        X = np.array(X)\n",
    "    return model_predict(X.reshape(-1,X.shape[2],X.shape[1]))\n",
    "\n",
    "def model_predict(X):\n",
    "        if np.argmax(model.predict(X)[-1]) == 0:\n",
    "            print(\"Sell\")\n",
    "        else:\n",
    "            print(\"buy\")\n",
    "    "
   ]
  },
  {
   "cell_type": "code",
   "execution_count": 11,
   "metadata": {},
   "outputs": [
    {
     "data": {
      "application/vnd.jupyter.widget-view+json": {
       "model_id": "f783c1da18064c6ab401952d385bdd78",
       "version_major": 2,
       "version_minor": 0
      },
      "text/plain": [
       "interactive(children=(Dropdown(description='ticker', options=('FTSI', 'EMR', 'RLX', 'NCTY', 'ZME', 'LEVL', 'AZ…"
      ]
     },
     "metadata": {},
     "output_type": "display_data"
    },
    {
     "data": {
      "text/plain": [
       "<function __main__.candlestick(ticker, increasing_line, decreasing_line)>"
      ]
     },
     "execution_count": 11,
     "metadata": {},
     "output_type": "execute_result"
    }
   ],
   "source": [
    "widgets.interact(candlestick, ticker = stocks.keys(),increasing_line = i_cl,decreasing_line = d_cl)"
   ]
  },
  {
   "cell_type": "code",
   "execution_count": 12,
   "metadata": {},
   "outputs": [
    {
     "data": {
      "application/vnd.jupyter.widget-view+json": {
       "model_id": "bb6bda3c97d84e9ebb8e4c8693f3bc94",
       "version_major": 2,
       "version_minor": 0
      },
      "text/plain": [
       "interactive(children=(Dropdown(description='ticker', options=('FTSI', 'EMR', 'RLX', 'NCTY', 'ZME', 'LEVL', 'AZ…"
      ]
     },
     "metadata": {},
     "output_type": "display_data"
    },
    {
     "data": {
      "text/plain": [
       "<function __main__.plot_tick(ticker)>"
      ]
     },
     "execution_count": 12,
     "metadata": {},
     "output_type": "execute_result"
    }
   ],
   "source": [
    "widgets.interact(plot_tick, ticker = stocks.keys())"
   ]
  },
  {
   "cell_type": "code",
   "execution_count": 146,
   "metadata": {},
   "outputs": [
    {
     "data": {
      "application/vnd.jupyter.widget-view+json": {
       "model_id": "a6ffb2169d2443929cedf36c53a204f0",
       "version_major": 2,
       "version_minor": 0
      },
      "text/plain": [
       "interactive(children=(Dropdown(description='ticker', options=('FTSI', 'EMR', 'RLX', 'NCTY', 'ZME', 'LEVL', 'AZ…"
      ]
     },
     "metadata": {},
     "output_type": "display_data"
    },
    {
     "data": {
      "text/plain": [
       "<function __main__.preprocess(ticker)>"
      ]
     },
     "execution_count": 146,
     "metadata": {},
     "output_type": "execute_result"
    }
   ],
   "source": [
    "widgets.interact(preprocess, ticker = stocks.keys())"
   ]
  },
  {
   "cell_type": "code",
   "execution_count": null,
   "metadata": {},
   "outputs": [],
   "source": []
  }
 ],
 "metadata": {
  "kernelspec": {
   "display_name": "Python 3",
   "language": "python",
   "name": "python3"
  },
  "language_info": {
   "codemirror_mode": {
    "name": "ipython",
    "version": 3
   },
   "file_extension": ".py",
   "mimetype": "text/x-python",
   "name": "python",
   "nbconvert_exporter": "python",
   "pygments_lexer": "ipython3",
   "version": "3.8.5"
  }
 },
 "nbformat": 4,
 "nbformat_minor": 4
}
