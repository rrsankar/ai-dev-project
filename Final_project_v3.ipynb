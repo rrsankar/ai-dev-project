{
 "cells": [
  {
   "cell_type": "code",
   "execution_count": null,
   "metadata": {},
   "outputs": [],
   "source": [
    "#NEwspaper documentation: https://newspaper.readthedocs.io/en/latest/"
   ]
  },
  {
   "cell_type": "code",
   "execution_count": 204,
   "metadata": {},
   "outputs": [],
   "source": [
    "from tqdm import tqdm\n",
    "import newspaper\n",
    "from newspaper import Article\n",
    "import pandas as pd\n",
    "import yfinance as yf\n",
    "import matplotlib.pyplot as plt\n",
    "import re\n",
    "from datetime import date\n",
    "from matplotlib.pyplot import figure"
   ]
  },
  {
   "cell_type": "code",
   "execution_count": 2,
   "metadata": {},
   "outputs": [],
   "source": [
    "today = date.today().day"
   ]
  },
  {
   "cell_type": "code",
   "execution_count": 46,
   "metadata": {},
   "outputs": [
    {
     "name": "stderr",
     "output_type": "stream",
     "text": [
      "100%|██████████| 14/14 [01:27<00:00,  6.22s/it]\n"
     ]
    }
   ],
   "source": [
    "#Looping for 14  days to get website object for last 2 weeks\n",
    "website = []\n",
    "for i in tqdm(range(today-14,today)):\n",
    "    temp = newspaper.build(\"https://www.prnewswire.com/news-releases/financial-services-latest-news/investment-opinions-list/page=1&pagesize=100&month=11&day=\" + str(i) + \"&year=2021&hour=00\",memoize_articles = False)\n",
    "    website.append(temp)"
   ]
  },
  {
   "cell_type": "code",
   "execution_count": 48,
   "metadata": {},
   "outputs": [
    {
     "name": "stderr",
     "output_type": "stream",
     "text": [
      "100%|██████████| 204/204 [02:12<00:00,  1.53it/s]\n",
      "100%|██████████| 204/204 [02:05<00:00,  1.63it/s]\n",
      "100%|██████████| 204/204 [02:08<00:00,  1.59it/s]\n",
      "100%|██████████| 204/204 [01:44<00:00,  1.94it/s]\n",
      "100%|██████████| 204/204 [01:27<00:00,  2.32it/s]\n",
      "100%|██████████| 204/204 [01:22<00:00,  2.46it/s]\n",
      "100%|██████████| 204/204 [01:42<00:00,  1.99it/s]\n",
      "100%|██████████| 204/204 [01:23<00:00,  2.44it/s]\n",
      "100%|██████████| 204/204 [01:18<00:00,  2.59it/s]\n",
      "100%|██████████| 204/204 [01:17<00:00,  2.62it/s]\n",
      "100%|██████████| 204/204 [01:18<00:00,  2.59it/s]\n",
      "100%|██████████| 204/204 [01:24<00:00,  2.40it/s]\n",
      "100%|██████████| 204/204 [01:21<00:00,  2.51it/s]\n",
      "100%|██████████| 204/204 [01:32<00:00,  2.20it/s]\n"
     ]
    }
   ],
   "source": [
    "#Try expect because some artices return 404 error, which stops the entire code\n",
    "articles = []\n",
    "for day in website:\n",
    "    for i in tqdm(range(len(day.articles))):\n",
    "        try:\n",
    "            article = day.articles[i]\n",
    "            article.download()\n",
    "            article.parse()\n",
    "            articles.append(article)\n",
    "        except:\n",
    "            pass"
   ]
  },
  {
   "cell_type": "code",
   "execution_count": 49,
   "metadata": {},
   "outputs": [
    {
     "name": "stderr",
     "output_type": "stream",
     "text": [
      "100%|██████████| 2673/2673 [00:07<00:00, 346.91it/s]\n"
     ]
    }
   ],
   "source": [
    "#Get the title,id,keyword,text and publishing date from each article\n",
    "article_title = []\n",
    "article_text = []\n",
    "article_keywords = []\n",
    "article_url = []\n",
    "artical_publish_date = []\n",
    "for article in tqdm(articles):\n",
    "    article.nlp()\n",
    "    artical_publish_date.append(article.publish_date)\n",
    "    article_keywords.append(article.keywords)\n",
    "    article_title.append(article.title)\n",
    "    article_text.append(article.text)\n",
    "    article_url.append(article.url)"
   ]
  },
  {
   "cell_type": "code",
   "execution_count": 114,
   "metadata": {},
   "outputs": [],
   "source": [
    "#Store all the data into a dataframe\n",
    "data = pd.DataFrame({\"Article_Title\": article_title,\"Article_id\": articles,\"Keyword\": article_keywords,\"Article_Text\": article_text,\"Publish Date\": artical_publish_date,\"Url\":article_url})"
   ]
  },
  {
   "cell_type": "code",
   "execution_count": 123,
   "metadata": {},
   "outputs": [
    {
     "data": {
      "text/html": [
       "<div>\n",
       "<style scoped>\n",
       "    .dataframe tbody tr th:only-of-type {\n",
       "        vertical-align: middle;\n",
       "    }\n",
       "\n",
       "    .dataframe tbody tr th {\n",
       "        vertical-align: top;\n",
       "    }\n",
       "\n",
       "    .dataframe thead th {\n",
       "        text-align: right;\n",
       "    }\n",
       "</style>\n",
       "<table border=\"1\" class=\"dataframe\">\n",
       "  <thead>\n",
       "    <tr style=\"text-align: right;\">\n",
       "      <th></th>\n",
       "      <th>Article_Title</th>\n",
       "      <th>Article_id</th>\n",
       "      <th>Keyword</th>\n",
       "      <th>Article_Text</th>\n",
       "      <th>Publish Date</th>\n",
       "      <th>Url</th>\n",
       "    </tr>\n",
       "  </thead>\n",
       "  <tbody>\n",
       "    <tr>\n",
       "      <th>0</th>\n",
       "      <td>Internet of Things News and Press Releases fro...</td>\n",
       "      <td>&lt;newspaper.article.Article object at 0x0000021...</td>\n",
       "      <td>[press, subject, sources, request, submit, pro...</td>\n",
       "      <td>Journalists and Bloggers\\n\\nThe news you need,...</td>\n",
       "      <td>None</td>\n",
       "      <td>https://www.prnewswire.com/news-releases/consu...</td>\n",
       "    </tr>\n",
       "    <tr>\n",
       "      <th>1</th>\n",
       "      <td>All Heavy Industry &amp; Manufacturing News and Pr...</td>\n",
       "      <td>&lt;newspaper.article.Article object at 0x0000021...</td>\n",
       "      <td>[press, manufacturing, subject, sources, reque...</td>\n",
       "      <td>Journalists and Bloggers\\n\\nThe news you need,...</td>\n",
       "      <td>None</td>\n",
       "      <td>https://www.prnewswire.com/news-releases/heavy...</td>\n",
       "    </tr>\n",
       "    <tr>\n",
       "      <th>2</th>\n",
       "      <td>All Machine Tools, Metalworking and Metallurgy...</td>\n",
       "      <td>&lt;newspaper.article.Article object at 0x0000021...</td>\n",
       "      <td>[press, subject, sources, request, machine, su...</td>\n",
       "      <td>Journalists and Bloggers\\n\\nThe news you need,...</td>\n",
       "      <td>None</td>\n",
       "      <td>https://www.prnewswire.com/news-releases/heavy...</td>\n",
       "    </tr>\n",
       "    <tr>\n",
       "      <th>3</th>\n",
       "      <td>All Consumer Products &amp; Retail News and Press ...</td>\n",
       "      <td>&lt;newspaper.article.Article object at 0x0000021...</td>\n",
       "      <td>[press, retail, subject, sources, request, sub...</td>\n",
       "      <td>Journalists and Bloggers\\n\\nThe news you need,...</td>\n",
       "      <td>None</td>\n",
       "      <td>https://www.prnewswire.com/news-releases/consu...</td>\n",
       "    </tr>\n",
       "    <tr>\n",
       "      <th>4</th>\n",
       "      <td>All Amusement Parks and Tourist Attractions Ne...</td>\n",
       "      <td>&lt;newspaper.article.Article object at 0x0000021...</td>\n",
       "      <td>[press, subject, sources, request, parks, subm...</td>\n",
       "      <td>Journalists and Bloggers\\n\\nThe news you need,...</td>\n",
       "      <td>None</td>\n",
       "      <td>https://www.prnewswire.com/news-releases/trave...</td>\n",
       "    </tr>\n",
       "    <tr>\n",
       "      <th>...</th>\n",
       "      <td>...</td>\n",
       "      <td>...</td>\n",
       "      <td>...</td>\n",
       "      <td>...</td>\n",
       "      <td>...</td>\n",
       "      <td>...</td>\n",
       "    </tr>\n",
       "    <tr>\n",
       "      <th>2668</th>\n",
       "      <td>What's the new normal for PR pros and press re...</td>\n",
       "      <td>&lt;newspaper.article.Article object at 0x0000021...</td>\n",
       "      <td>[press, release, cisions, normal, pr, releases...</td>\n",
       "      <td>What's the new normal for PR pros and press re...</td>\n",
       "      <td>2021-09-13 00:00:00</td>\n",
       "      <td>https://prnewswire.mediaroom.com/2021-09-13-Wh...</td>\n",
       "    </tr>\n",
       "    <tr>\n",
       "      <th>2669</th>\n",
       "      <td>PR Newswire, Cision Communications Cloud rank ...</td>\n",
       "      <td>&lt;newspaper.article.Article object at 0x0000021...</td>\n",
       "      <td>[g2, ranked, reviews, pr, cloud, best, accordi...</td>\n",
       "      <td>PR Newswire, Cision Communications Cloud rank ...</td>\n",
       "      <td>2021-07-07 00:00:00</td>\n",
       "      <td>https://prnewswire.mediaroom.com/2021-07-07-PR...</td>\n",
       "    </tr>\n",
       "    <tr>\n",
       "      <th>2670</th>\n",
       "      <td>PR Newswire, Cision Communications Cloud rank ...</td>\n",
       "      <td>&lt;newspaper.article.Article object at 0x0000021...</td>\n",
       "      <td>[g2, ranked, reviews, pr, cloud, best, accordi...</td>\n",
       "      <td>PR Newswire, Cision Communications Cloud rank ...</td>\n",
       "      <td>2021-07-07 00:00:00</td>\n",
       "      <td>https://prnewswire.mediaroom.com/2021-07-07-PR...</td>\n",
       "    </tr>\n",
       "    <tr>\n",
       "      <th>2671</th>\n",
       "      <td>Cision Announces Premium Sponsorship of the NI...</td>\n",
       "      <td>&lt;newspaper.article.Article object at 0x0000021...</td>\n",
       "      <td>[virtual, social, technology, solutions, commu...</td>\n",
       "      <td>Cision Announces Premium Sponsorship of the NI...</td>\n",
       "      <td>2021-06-21 00:00:00</td>\n",
       "      <td>https://prnewswire.mediaroom.com/2021-06-21-Ci...</td>\n",
       "    </tr>\n",
       "    <tr>\n",
       "      <th>2672</th>\n",
       "      <td>Cision PR Newswire and DFIN Announce Strategic...</td>\n",
       "      <td>&lt;newspaper.article.Article object at 0x0000021...</td>\n",
       "      <td>[global, disclosure, partnership, compliance, ...</td>\n",
       "      <td>Cision PR Newswire and DFIN Announce Strategic...</td>\n",
       "      <td>2021-06-21 00:00:00</td>\n",
       "      <td>https://prnewswire.mediaroom.com/2021-06-21-Ci...</td>\n",
       "    </tr>\n",
       "  </tbody>\n",
       "</table>\n",
       "<p>2673 rows × 6 columns</p>\n",
       "</div>"
      ],
      "text/plain": [
       "                                          Article_Title  \\\n",
       "0     Internet of Things News and Press Releases fro...   \n",
       "1     All Heavy Industry & Manufacturing News and Pr...   \n",
       "2     All Machine Tools, Metalworking and Metallurgy...   \n",
       "3     All Consumer Products & Retail News and Press ...   \n",
       "4     All Amusement Parks and Tourist Attractions Ne...   \n",
       "...                                                 ...   \n",
       "2668  What's the new normal for PR pros and press re...   \n",
       "2669  PR Newswire, Cision Communications Cloud rank ...   \n",
       "2670  PR Newswire, Cision Communications Cloud rank ...   \n",
       "2671  Cision Announces Premium Sponsorship of the NI...   \n",
       "2672  Cision PR Newswire and DFIN Announce Strategic...   \n",
       "\n",
       "                                             Article_id  \\\n",
       "0     <newspaper.article.Article object at 0x0000021...   \n",
       "1     <newspaper.article.Article object at 0x0000021...   \n",
       "2     <newspaper.article.Article object at 0x0000021...   \n",
       "3     <newspaper.article.Article object at 0x0000021...   \n",
       "4     <newspaper.article.Article object at 0x0000021...   \n",
       "...                                                 ...   \n",
       "2668  <newspaper.article.Article object at 0x0000021...   \n",
       "2669  <newspaper.article.Article object at 0x0000021...   \n",
       "2670  <newspaper.article.Article object at 0x0000021...   \n",
       "2671  <newspaper.article.Article object at 0x0000021...   \n",
       "2672  <newspaper.article.Article object at 0x0000021...   \n",
       "\n",
       "                                                Keyword  \\\n",
       "0     [press, subject, sources, request, submit, pro...   \n",
       "1     [press, manufacturing, subject, sources, reque...   \n",
       "2     [press, subject, sources, request, machine, su...   \n",
       "3     [press, retail, subject, sources, request, sub...   \n",
       "4     [press, subject, sources, request, parks, subm...   \n",
       "...                                                 ...   \n",
       "2668  [press, release, cisions, normal, pr, releases...   \n",
       "2669  [g2, ranked, reviews, pr, cloud, best, accordi...   \n",
       "2670  [g2, ranked, reviews, pr, cloud, best, accordi...   \n",
       "2671  [virtual, social, technology, solutions, commu...   \n",
       "2672  [global, disclosure, partnership, compliance, ...   \n",
       "\n",
       "                                           Article_Text         Publish Date  \\\n",
       "0     Journalists and Bloggers\\n\\nThe news you need,...                 None   \n",
       "1     Journalists and Bloggers\\n\\nThe news you need,...                 None   \n",
       "2     Journalists and Bloggers\\n\\nThe news you need,...                 None   \n",
       "3     Journalists and Bloggers\\n\\nThe news you need,...                 None   \n",
       "4     Journalists and Bloggers\\n\\nThe news you need,...                 None   \n",
       "...                                                 ...                  ...   \n",
       "2668  What's the new normal for PR pros and press re...  2021-09-13 00:00:00   \n",
       "2669  PR Newswire, Cision Communications Cloud rank ...  2021-07-07 00:00:00   \n",
       "2670  PR Newswire, Cision Communications Cloud rank ...  2021-07-07 00:00:00   \n",
       "2671  Cision Announces Premium Sponsorship of the NI...  2021-06-21 00:00:00   \n",
       "2672  Cision PR Newswire and DFIN Announce Strategic...  2021-06-21 00:00:00   \n",
       "\n",
       "                                                    Url  \n",
       "0     https://www.prnewswire.com/news-releases/consu...  \n",
       "1     https://www.prnewswire.com/news-releases/heavy...  \n",
       "2     https://www.prnewswire.com/news-releases/heavy...  \n",
       "3     https://www.prnewswire.com/news-releases/consu...  \n",
       "4     https://www.prnewswire.com/news-releases/trave...  \n",
       "...                                                 ...  \n",
       "2668  https://prnewswire.mediaroom.com/2021-09-13-Wh...  \n",
       "2669  https://prnewswire.mediaroom.com/2021-07-07-PR...  \n",
       "2670  https://prnewswire.mediaroom.com/2021-07-07-PR...  \n",
       "2671  https://prnewswire.mediaroom.com/2021-06-21-Ci...  \n",
       "2672  https://prnewswire.mediaroom.com/2021-06-21-Ci...  \n",
       "\n",
       "[2673 rows x 6 columns]"
      ]
     },
     "execution_count": 123,
     "metadata": {},
     "output_type": "execute_result"
    }
   ],
   "source": [
    "data"
   ]
  },
  {
   "cell_type": "code",
   "execution_count": 124,
   "metadata": {},
   "outputs": [],
   "source": [
    "#Dropping duplicates if any\n",
    "data.drop_duplicates(subset = \"Article_Text\",inplace = True,ignore_index = True)"
   ]
  },
  {
   "cell_type": "code",
   "execution_count": null,
   "metadata": {},
   "outputs": [],
   "source": []
  },
  {
   "cell_type": "code",
   "execution_count": 285,
   "metadata": {},
   "outputs": [],
   "source": [
    "tickers = set()\n",
    "for i in range(len(data)):\n",
    "    temp = re.findall(r':\\s[A-Z]{1,5}[)]',data.iloc[i][\"Article_Text\"])\n",
    "    for tick in temp: \n",
    "        tickers.add(tick[-(len(tick) - 2):-1])"
   ]
  },
  {
   "cell_type": "code",
   "execution_count": 297,
   "metadata": {},
   "outputs": [
    {
     "name": "stdout",
     "output_type": "stream",
     "text": [
      "- RI: No data found for this date range, symbol may be delisted\n"
     ]
    }
   ],
   "source": [
    "stocks = {}\n",
    "for tick in tickers:\n",
    "    stocks[tick] = yf.Ticker(tick).history(period = \"YTD\")"
   ]
  }
 ],
 "metadata": {
  "kernelspec": {
   "display_name": "Python 3",
   "language": "python",
   "name": "python3"
  },
  "language_info": {
   "codemirror_mode": {
    "name": "ipython",
    "version": 3
   },
   "file_extension": ".py",
   "mimetype": "text/x-python",
   "name": "python",
   "nbconvert_exporter": "python",
   "pygments_lexer": "ipython3",
   "version": "3.8.5"
  }
 },
 "nbformat": 4,
 "nbformat_minor": 4
}
